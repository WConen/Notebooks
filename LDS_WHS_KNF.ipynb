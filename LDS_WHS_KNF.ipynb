{
  "nbformat": 4,
  "nbformat_minor": 0,
  "metadata": {
    "colab": {
      "provenance": [],
      "authorship_tag": "ABX9TyPITIdqAOBHPvlaWD632iTS",
      "include_colab_link": true
    },
    "kernelspec": {
      "name": "python3",
      "display_name": "Python 3"
    },
    "language_info": {
      "name": "python"
    }
  },
  "cells": [
    {
      "cell_type": "markdown",
      "metadata": {
        "id": "view-in-github",
        "colab_type": "text"
      },
      "source": [
        "<a href=\"https://colab.research.google.com/github/WConen/Notebooks/blob/master/LDS_WHS_KNF.ipynb\" target=\"_parent\"><img src=\"https://colab.research.google.com/assets/colab-badge.svg\" alt=\"Open In Colab\"/></a>"
      ]
    },
    {
      "cell_type": "markdown",
      "source": [
        "# KNFs bestimmen\n",
        "\n",
        "Wir wollen eine erste algorithmische Idee implementieren, um KNFs zu erzeugen zu beliebigen Formeln.\n",
        "\n",
        "Wir folgen unserer Definition der Syntax des Formelaufbaus.\n",
        "\n",
        "Wir müssen zunächst in der Lage sein, Formeln zu repräsentieren. Das wollen wir möglichst einfach halten.\n"
      ],
      "metadata": {
        "id": "GPUYxcyQWVvL"
      }
    },
    {
      "cell_type": "code",
      "execution_count": 1,
      "metadata": {
        "colab": {
          "base_uri": "https://localhost:8080/"
        },
        "id": "AGReDugxWQLH",
        "outputId": "b01ee8a5-1f25-4798-a099-bd74df2deb01"
      },
      "outputs": [
        {
          "output_type": "stream",
          "name": "stdout",
          "text": [
            "((¬A ∨ B) → ¬(A ↔ B))\n"
          ]
        }
      ],
      "source": [
        "F = '((¬A ∨ B) → ¬(A ↔ B))'\n",
        "\n",
        "print(F)\n"
      ]
    },
    {
      "cell_type": "code",
      "source": [
        "## Einlesen der Formel als Baum\n",
        "\n",
        "## Wie sieht so eine Baumstruktur aus?\n",
        "\n",
        "class Tree():\n",
        "  def __init__(self,content,parent=None,left=None,right=None):\n",
        "    if content in ['→','↔','∧','∨']:\n",
        "      self.c_typ,self.c_val = (\"2OP\",content)\n",
        "    elif content == '¬':\n",
        "      self.c_typ,self.c_val = (\"1OP\",content)\n",
        "    else:\n",
        "      self.c_typ,self.c_val = (\"ATOM\",content)\n",
        "    self.parent = parent\n",
        "    if left: left.parent = self\n",
        "    self.left = left\n",
        "    if right: right.parent = self\n",
        "    self.right = right\n",
        "\n",
        "  def __str__(self):\n",
        "    if self.c_typ == 'ATOM': return self.c_val\n",
        "    if self.c_typ == '1OP': return self.c_val + str(self.left)\n",
        "    # Typ 2OP:\n",
        "    return \"(\" + str(self.left) + self.c_val + str(self.right) + ')'\n",
        "\n",
        "\n",
        "# Anlegen unsere Formel von oben\n",
        "FTree = Tree('→',\n",
        "             left=Tree('∨',\n",
        "                       left=Tree('¬',\n",
        "                                 left=Tree('A')),\n",
        "                       right=Tree('B')),\n",
        "             right=Tree('¬',\n",
        "                        left=Tree('↔',\n",
        "                                  left=Tree('A'),\n",
        "                                  right=Tree('B'))))\n",
        "print(FTree)"
      ],
      "metadata": {
        "colab": {
          "base_uri": "https://localhost:8080/"
        },
        "id": "Pa6nms69ZacH",
        "outputId": "834a2986-8dcd-4540-b277-31e0a1ee3c19"
      },
      "execution_count": 2,
      "outputs": [
        {
          "output_type": "stream",
          "name": "stdout",
          "text": [
            "((¬A∨B)→¬(A↔B))\n"
          ]
        }
      ]
    },
    {
      "cell_type": "markdown",
      "source": [
        "Wenn wir erstmal eine Baumdarstellung haben, können wir damit z.B. die Formel auswerten oder uns unsere Nummerierung ausgeben lassen.\n",
        "\n",
        "Bauen wir einmal beides."
      ],
      "metadata": {
        "id": "CGh1G9wQo8tY"
      }
    },
    {
      "cell_type": "code",
      "source": [
        "## Erweiterung um Evaluation und Nummerierung\n",
        "class Tree():\n",
        "  # unchanged\n",
        "  def __init__(self,content,parent=None,left=None,right=None):\n",
        "    if content in ['→','↔','∧','∨']:\n",
        "      self.c_typ,self.c_val = (\"2OP\",content)\n",
        "    elif content == '¬':\n",
        "      self.c_typ,self.c_val = (\"1OP\",content)\n",
        "    else:\n",
        "      self.c_typ,self.c_val = (\"ATOM\",content)\n",
        "    self.parent = parent\n",
        "    if left: left.parent = self\n",
        "    self.left = left\n",
        "    if right: right.parent = self\n",
        "    self.right = right\n",
        "\n",
        "  # unchanged\n",
        "  def __str__(self):\n",
        "    if self.c_typ == 'ATOM': return self.c_val\n",
        "    if self.c_typ == '1OP': return self.c_val + str(self.left)\n",
        "    # Typ 2OP:\n",
        "    return \"(\" + str(self.left) + self.c_val + str(self.right) + ')'\n",
        "\n",
        "  def __eq__(self, other):\n",
        "    return str(self) == str(other)\n",
        "\n",
        "  # Unsere Semantik\n",
        "  def eval(self,belegung):\n",
        "    if self.c_typ == \"ATOM\":\n",
        "      return belegung[self.c_val]\n",
        "    if self.c_typ == \"1OP\" and self.c_val == '¬':\n",
        "      return not self.left.eval(belegung)\n",
        "    else:\n",
        "      if self.c_val == '∧':\n",
        "        return self.left.eval(belegung) and self.right.eval(belegung)\n",
        "      if self.c_val == '∨':\n",
        "        return self.left.eval(belegung) or self.right.eval(belegung)\n",
        "      if self.c_val == '→':\n",
        "        return (not self.left.eval(belegung)) or self.right.eval(belegung)\n",
        "      if self.c_val == '↔':\n",
        "        return (self.left.eval(belegung) and self.right.eval(belegung)) \\\n",
        "              or \\\n",
        "               (not self.left.eval(belegung) and not self.right.eval(belegung))\n",
        "\n",
        "  def nummer(self):\n",
        "    if self.c_typ == 'ATOM': return 0\n",
        "    if self.c_typ == '1OP': return 1 + self.left.nummer()\n",
        "    # Typ 2OP:\n",
        "    return max(self.left.nummer(),self.right.nummer()) + 1\n",
        "\n",
        "  def str_nummerieren(self):\n",
        "    if self.c_typ == 'ATOM': return self.c_val + '/' + str(self.nummer())\n",
        "    if self.c_typ == '1OP':\n",
        "      return self.c_val + '/' + str(self.nummer()) + self.left.str_nummerieren()\n",
        "    # Typ 2OP:\n",
        "    return \"(\" + self.left.str_nummerieren() + ' '\\\n",
        "        + self.c_val + '/' + str(self.nummer()) \\\n",
        "        + ' ' + self.right.str_nummerieren() + ')'\n",
        "\n",
        "FTree = Tree('→',\n",
        "             left=Tree('∨',\n",
        "                       left=Tree('¬',\n",
        "                                 left=Tree('A')),\n",
        "                       right=Tree('B')),\n",
        "             right=Tree('¬',\n",
        "                        left=Tree('↔',\n",
        "                                  left=Tree('A'),\n",
        "                                  right=Tree('B'))))\n",
        "print(FTree)\n"
      ],
      "metadata": {
        "colab": {
          "base_uri": "https://localhost:8080/"
        },
        "id": "qHOygYZSltUY",
        "outputId": "dc17c04a-e202-4715-b899-2ea7576a7f0e"
      },
      "execution_count": 3,
      "outputs": [
        {
          "output_type": "stream",
          "name": "stdout",
          "text": [
            "((¬A∨B)→¬(A↔B))\n"
          ]
        }
      ]
    },
    {
      "cell_type": "code",
      "source": [
        "print(FTree.str_nummerieren())"
      ],
      "metadata": {
        "colab": {
          "base_uri": "https://localhost:8080/"
        },
        "id": "dCktkGhop-Vi",
        "outputId": "e0d95b5b-5779-4eb0-c18f-665e93d12af4"
      },
      "execution_count": 4,
      "outputs": [
        {
          "output_type": "stream",
          "name": "stdout",
          "text": [
            "((¬/1A/0 ∨/2 B/0) →/3 ¬/2(A/0 ↔/1 B/0))\n"
          ]
        }
      ]
    },
    {
      "cell_type": "code",
      "source": [
        "print(FTree.eval({'A':False,'B':False}))\n",
        "print(FTree.eval({'A':False,'B':True}))\n",
        "print(FTree.eval({'A':True,'B':False}))\n",
        "print(FTree.eval({'A':True,'B':True}))"
      ],
      "metadata": {
        "colab": {
          "base_uri": "https://localhost:8080/"
        },
        "id": "ZNOYTkTotgQp",
        "outputId": "c9ad55e6-15d3-4272-bb70-434c3dedc538"
      },
      "execution_count": 5,
      "outputs": [
        {
          "output_type": "stream",
          "name": "stdout",
          "text": [
            "False\n",
            "True\n",
            "True\n",
            "False\n"
          ]
        }
      ]
    },
    {
      "cell_type": "markdown",
      "source": [
        "Die Baumdarstellung funktioniert augenscheinlich sinnvoll (wir sollten später noch einige Tests schreiben) und sie lässt sich in die \"normale\" Formelform übertragen. Aber uns fehlt noch die Richtung \"Normale Formel\" => \"Baumform\".\n",
        "\n",
        "Gehen wir zunächst einmal davon aus, das wir mit einer korrekten Formel beginnen, also einer Formel, die genau unserer Syntaxdefinition entspricht. Hier ist besonders die Klammerung gemeint, das hier angedeutete Problem wird später noch klarer.\n",
        "\n",
        "Jetzt wollen wir die Formel \"parsen\", um sie in Baumform bringen zu können."
      ],
      "metadata": {
        "id": "kTumj9wTYtks"
      }
    },
    {
      "cell_type": "code",
      "source": [
        "F = '((¬A ∨ B) → ¬(A ↔ B))'\n",
        "\n",
        "def tokenize(formel):\n",
        "  op_chars = ['→','↔','∧','∨']\n",
        "  token = []\n",
        "  ctx = None\n",
        "\n",
        "  for c in formel:\n",
        "    if c == ' ': continue\n",
        "    if c == '(':\n",
        "      token.append((0,c))\n",
        "    elif c == ')':\n",
        "      token.append((1,c))\n",
        "    elif c == '¬':\n",
        "      token.append((2,c))\n",
        "    elif c in op_chars:\n",
        "      token.append((3,c))\n",
        "    else:\n",
        "      token.append((4,c))\n",
        "  token.append((6,'')) # END-Token\n",
        "  return token\n",
        "\n",
        "token = tokenize(F)\n",
        "print(token)\n",
        "\n",
        "class Tokenlist():\n",
        "  def __init__(self,token):\n",
        "    self.token = token[:]\n",
        "    self.pos = 0\n",
        "\n",
        "  def __iter__(self):\n",
        "    self.pos = 0\n",
        "    return self\n",
        "\n",
        "  def __next__(self):\n",
        "    if self.pos+1 > len(self.token):\n",
        "      return None\n",
        "    self.pos += 1\n",
        "    return self.token[self.pos-1]\n",
        "\n",
        "  def peek(self,horizont=0):\n",
        "    pos = self.pos+horizont\n",
        "    if pos >= len(self.token) or pos < 0: return None\n",
        "    return self.token[pos]\n",
        "\n",
        "tl = Tokenlist(token)\n",
        "\n",
        "# Regeln: (das | bedeutet ODER)\n",
        "# OP1 = '¬'\n",
        "# OP2 = '→' | '↔' | '∧' | '∨'\n",
        "# FORMEL := ATOM | OP1 FORMEL | '(' FORMEL OP2 FORMEL ')'\n",
        "# Wir können im Moment nur Atome mit einem Zeichen repräsentieren, reicht\n",
        "\n",
        "token_typen = ['FORMEL_S','FORMEL_E','OP1','OP2','ATOM','FORMEL','END']\n",
        "knoten_typen = ['OP1','OP2','ATOM','FORMEL']\n",
        "\n",
        "# F = '((¬A ∨ B) → ¬(A ↔ B))'\n",
        "\n",
        "def parse_typ(tl,ctx,typ,debug=False):\n",
        "  if debug: print(ctx,\"Looking for\",typ,\"!\")\n",
        "  if tl.peek()[0] == typ:\n",
        "    ttyp,tval = tl.__next__()\n",
        "    return (token_typen[ttyp],ttyp,tval)\n",
        "  else:\n",
        "    if debug: print(ctx,\"Error while looking for\",typ,\"!\")\n",
        "    return None\n",
        "\n",
        "def parse_formels(tl,ctx,debug):\n",
        "  return parse_typ(tl,ctx,0,debug)\n",
        "\n",
        "def parse_formele(tl,ctx,debug):\n",
        "  return parse_typ(tl,ctx,1,debug)\n",
        "\n",
        "def parse_op1(tl,ctx,debug):\n",
        "  return parse_typ(tl,ctx,2,debug)\n",
        "\n",
        "def parse_op2(tl,ctx,debug):\n",
        "  return parse_typ(tl,ctx,3,debug)\n",
        "\n",
        "def parse_atom(tl,ctx,debug):\n",
        "  return parse_typ(tl,ctx,4,debug)\n",
        "\n",
        "def parse_formel(tl,ctx,debug=False):\n",
        "  # ( FORMEL ) or ATOM \"alone\"\n",
        "  #            or NEG ATOM\n",
        "  #            or NEG FORMEL\n",
        "  #            or FORMEL OP2 FORMEL\n",
        "  #            or ATOM OP2 FORMEL\n",
        "  if debug: print(ctx,\"Looking for FORMEL\")\n",
        "  tnext = tl.peek()\n",
        "  if debug: print(ctx,\"  tnext:\",tnext)\n",
        "  tnext_typ,tnext_val = tnext\n",
        "  if tnext_typ == 0: # (\n",
        "    parse_formels(tl,ctx,debug)\n",
        "    c1 = parse_formel(tl,ctx+\" \",debug)\n",
        "    c2 = None # ( FORMEL )\n",
        "    if tl.peek()[0] == 3: # ( FORMEL OP2 FORMEL )\n",
        "      c2 = parse_op2(tl,ctx+\"  \",debug)\n",
        "      c3 = parse_formel(tl,ctx+\" \",debug)\n",
        "    parse_formele(tl,ctx,debug)\n",
        "    return c1 if not c2 else (\"FORMEL_OP2\",c1,c2,c3)\n",
        "  elif tnext_typ == 4: # ATOM\n",
        "    c1 = parse_atom(tl,ctx+\" \",debug)\n",
        "    c2 = None # ATOM\n",
        "    if tl.peek()[0] == 3: # ATOM OP2 FORMEL\n",
        "      c2 = parse_op2(tl,ctx+\"  \",debug)\n",
        "      c3 = parse_formel(tl,ctx+\" \",debug)\n",
        "    return c1 if not c2 else (\"FORMEL_OP2\",c1,c2,c3)\n",
        "  elif tnext_typ == 2: # NEG\n",
        "    c1 = parse_op1(tl,ctx+\" \",debug)\n",
        "    if tl.peek()[0] == 4: # NEG ATOM\n",
        "      c2 = parse_atom(tl,ctx+\" \",debug)\n",
        "    else:\n",
        "      c2 = parse_formel(tl,ctx+\" \",debug) # NEG FORMEL\n",
        "    return(\"FORMEL_NEG\",c2)\n",
        "  else:\n",
        "    print(\"ERROR, unknown type\")\n",
        "    return None\n",
        "\n",
        "import pprint\n",
        "pprint.pprint(result := parse_formel(tl,\"\",debug=True))\n",
        "\n",
        "## Problem noch: Extraschicht FORMEL, falls es Extra-Klammern gibt,\n",
        "## die noch rausprüfen"
      ],
      "metadata": {
        "colab": {
          "base_uri": "https://localhost:8080/"
        },
        "id": "EeaKZ_qzZqJz",
        "outputId": "811e6065-6d5d-4113-eaef-c35433dd39de"
      },
      "execution_count": 6,
      "outputs": [
        {
          "output_type": "stream",
          "name": "stdout",
          "text": [
            "[(0, '('), (0, '('), (2, '¬'), (4, 'A'), (3, '∨'), (4, 'B'), (1, ')'), (3, '→'), (2, '¬'), (0, '('), (4, 'A'), (3, '↔'), (4, 'B'), (1, ')'), (1, ')'), (6, '')]\n",
            " Looking for FORMEL\n",
            "   tnext: (0, '(')\n",
            " Looking for 0 !\n",
            "  Looking for FORMEL\n",
            "    tnext: (0, '(')\n",
            "  Looking for 0 !\n",
            "   Looking for FORMEL\n",
            "     tnext: (2, '¬')\n",
            "    Looking for 2 !\n",
            "    Looking for 4 !\n",
            "    Looking for 3 !\n",
            "   Looking for FORMEL\n",
            "     tnext: (4, 'B')\n",
            "    Looking for 4 !\n",
            "  Looking for 1 !\n",
            "   Looking for 3 !\n",
            "  Looking for FORMEL\n",
            "    tnext: (2, '¬')\n",
            "   Looking for 2 !\n",
            "   Looking for FORMEL\n",
            "     tnext: (0, '(')\n",
            "   Looking for 0 !\n",
            "    Looking for FORMEL\n",
            "      tnext: (4, 'A')\n",
            "     Looking for 4 !\n",
            "      Looking for 3 !\n",
            "     Looking for FORMEL\n",
            "       tnext: (4, 'B')\n",
            "      Looking for 4 !\n",
            "   Looking for 1 !\n",
            " Looking for 1 !\n",
            "('FORMEL_OP2',\n",
            " ('FORMEL_OP2',\n",
            "  ('FORMEL_NEG', ('ATOM', 4, 'A')),\n",
            "  ('OP2', 3, '∨'),\n",
            "  ('ATOM', 4, 'B')),\n",
            " ('OP2', 3, '→'),\n",
            " ('FORMEL_NEG',\n",
            "  ('FORMEL_OP2', ('ATOM', 4, 'A'), ('OP2', 3, '↔'), ('ATOM', 4, 'B'))))\n"
          ]
        }
      ]
    },
    {
      "cell_type": "code",
      "source": [
        "FTree = Tree('→',\n",
        "             left=Tree('∨',\n",
        "                       left=Tree('¬',\n",
        "                                 left=Tree('A')),\n",
        "                       right=Tree('B')),\n",
        "             right=Tree('¬',\n",
        "                        left=Tree('↔',\n",
        "                                  left=Tree('A'),\n",
        "                                  right=Tree('B'))))\n",
        "print(FTree)\n",
        "\n",
        "# Currently, we have either 2,3 or 4 Elements\n",
        "def create_tree(formel):\n",
        "  typ = formel[0]\n",
        "  if typ == 'ATOM':\n",
        "    return Tree(formel[2])\n",
        "  elif typ == 'FORMEL_NEG':\n",
        "    return Tree('¬',left=create_tree(formel[1]))\n",
        "  elif typ == 'FORMEL_OP2':\n",
        "    return Tree(formel[2][2],\n",
        "                left=create_tree(formel[1]),\n",
        "                right=create_tree(formel[3])\n",
        "    )\n",
        "  else:\n",
        "    print(\"UNKNOWN STUFF...ERROR!\")\n",
        "\n",
        "# Uses the result from above, should recreate the same tree\n",
        "FTree1 = create_tree(result)\n",
        "print(FTree1)"
      ],
      "metadata": {
        "colab": {
          "base_uri": "https://localhost:8080/"
        },
        "id": "zuazRQKJdWju",
        "outputId": "0545ac43-07b1-4716-d26d-376885ac1443"
      },
      "execution_count": 7,
      "outputs": [
        {
          "output_type": "stream",
          "name": "stdout",
          "text": [
            "((¬A∨B)→¬(A↔B))\n",
            "((¬A∨B)→¬(A↔B))\n"
          ]
        }
      ]
    },
    {
      "cell_type": "code",
      "source": [
        "# Total process:\n",
        "\n",
        "Fs = ['(¬(¬A∨B)→¬(¬A↔B))','((¬A∨B)→¬(¬¬A↔B))','¬(¬(¬A∨¬B)→¬(¬A↔¬B))',\n",
        "      '¬¬¬¬¬(¬(¬A∨¬B)¬→¬(¬A↔¬B))','¬¬¬¬¬(¬(¬A∨¬B)→¬(¬A↔¬B))']\n",
        "\n",
        "# Not very verbous when it comes to errors..., see the fourth (invalid) example,\n",
        "# however, it produces a valid formula at least ¬¬¬¬¬¬(¬A∨¬B)\n",
        "# ... should this worry us somewhat? Hm, ¬(¬(...)) works out in the 5. example\n",
        "\n",
        "for f in Fs:\n",
        "  print(f)\n",
        "  print(res := create_tree(parse_formel(Tokenlist(tokenize(f)),\"\")))\n",
        "  print(\"MATCHES?\",f == str(res),\"\\n\")"
      ],
      "metadata": {
        "colab": {
          "base_uri": "https://localhost:8080/"
        },
        "id": "SHZUDyo8it90",
        "outputId": "78ce413a-dc66-4616-a40c-d50f71a0ab50"
      },
      "execution_count": 8,
      "outputs": [
        {
          "output_type": "stream",
          "name": "stdout",
          "text": [
            "(¬(¬A∨B)→¬(¬A↔B))\n",
            "(¬(¬A∨B)→¬(¬A↔B))\n",
            "MATCHES? True \n",
            "\n",
            "((¬A∨B)→¬(¬¬A↔B))\n",
            "((¬A∨B)→¬(¬¬A↔B))\n",
            "MATCHES? True \n",
            "\n",
            "¬(¬(¬A∨¬B)→¬(¬A↔¬B))\n",
            "¬(¬(¬A∨¬B)→¬(¬A↔¬B))\n",
            "MATCHES? True \n",
            "\n",
            "¬¬¬¬¬(¬(¬A∨¬B)¬→¬(¬A↔¬B))\n",
            "¬¬¬¬¬¬(¬A∨¬B)\n",
            "MATCHES? False \n",
            "\n",
            "¬¬¬¬¬(¬(¬A∨¬B)→¬(¬A↔¬B))\n",
            "¬¬¬¬¬(¬(¬A∨¬B)→¬(¬A↔¬B))\n",
            "MATCHES? True \n",
            "\n"
          ]
        }
      ]
    },
    {
      "cell_type": "code",
      "source": [
        "import copy\n",
        "\n",
        "## Create KNF from Formula\n",
        "F = '((¬A ∨ B) → ¬(A ↔ B))'\n",
        "res = create_tree(parse_formel(Tokenlist(tokenize(F)),\"\"))\n",
        "\n",
        "# Helper function for debugging, checks whether the parent links are correct\n",
        "def check_parents(t:Tree,ancestor=None,debug=False,pre=0):\n",
        "  if debug: print(pre*\"  \",\"Check \",t.c_typ,t.c_val)\n",
        "  result = (t.parent == ancestor)\n",
        "  if not result:\n",
        "    print(\"Error in parent of:\",t,\"\\n  -- Parent:\",t.parent,\"\\n  -- Ancest:\",ancestor)\n",
        "  if t.c_typ == \"ATOM\": return result\n",
        "  if t.c_typ == \"1OP\":\n",
        "    return result and check_parents(t.left,ancestor=t,debug=debug,pre=pre+1)\n",
        "  if t.c_typ == \"2OP\":\n",
        "    return result and check_parents(t.left,ancestor=t,debug=debug,pre=pre+1) \\\n",
        "      and check_parents(t.right,ancestor=t,debug=debug,pre=pre+1)\n",
        "\n",
        "## Work on the Tree representation of the formula\n",
        "\n",
        "## Step 0: Get rid of → and ↔\n",
        "## For ↔, do this intelligently, that is: if F↔G will be negated\n",
        "## choose the suitable transformation to a DNF, (F∧G)∨(¬F∧¬G)\n",
        "## otherwise go for (F→G)∧(G→F) (and, later, apply the standard\n",
        "## transformation to the implications, of course)\n",
        "## Note: this 'intelligence' is not required, of course, both\n",
        "## transformations are semantically equivalent\n",
        "def transform_step0(tree:Tree,neg=False,debug=False):\n",
        "  # if debug: print(\"Node/Neg:\",tree.c_typ,tree.c_val,neg)\n",
        "  if tree.c_typ == \"ATOM\": return True\n",
        "  if tree.c_typ == \"1OP\": return transform_step0(tree.left,not neg,debug)\n",
        "  if tree.c_typ == \"2OP\":\n",
        "    if tree.c_val == '↔':\n",
        "      if debug: print(tree,\": Transform (F ↔ G)\",end='')\n",
        "      if not neg: # ->,<-\n",
        "        if debug: print(\" to (F→G) ∧ (G→F)\")\n",
        "        new_node_l = Tree('→',parent=tree,left=tree.left,right=tree.right)\n",
        "        new_node_r = Tree('→',parent=tree,left=copy.deepcopy(tree.right),\n",
        "                                          right=copy.deepcopy(tree.left))\n",
        "        tree.c_val = '∧'\n",
        "      else:\n",
        "        if debug: print(\" to (F∧G) ∨ (¬F∧¬G)\")\n",
        "        new_node_l = Tree('∧',parent=tree,left=tree.left,right=tree.right)\n",
        "        new_node_r = Tree('∧',parent=tree,\n",
        "                          left=Tree('¬',left=copy.deepcopy(tree.left)),\n",
        "                          right=Tree('¬',left=copy.deepcopy(tree.right)))\n",
        "        tree.c_val = '∨'\n",
        "      # if debug: print(\"c_val changed to:\",tree.c_val)\n",
        "      tree.left = new_node_l\n",
        "      tree.right = new_node_r\n",
        "      check_parents(tree,ancestor=tree.parent)\n",
        "    elif tree.c_val == '→':\n",
        "      if debug: print(tree,\" Transform (F → G) to (NOT F OR G)\")\n",
        "      # Create node with NEG left\n",
        "      new_node = Tree('¬',parent=tree,left=tree.left)\n",
        "      tree.c_val = '∨' # Change OP2 value to ∨\n",
        "      tree.left = new_node\n",
        "      check_parents(tree,ancestor=tree.parent)\n",
        "    return transform_step0(tree.left,neg,debug) \\\n",
        "              and transform_step0(tree.right,neg,debug)\n",
        "  else:\n",
        "    print(\"ERROR, unknown node type!\")\n",
        "    return False\n",
        "\n",
        "\n",
        "print(res)\n",
        "check_parents(res)\n",
        "print(transform_step0(res,debug=False))\n",
        "check_parents(res)\n",
        "print(res)"
      ],
      "metadata": {
        "colab": {
          "base_uri": "https://localhost:8080/"
        },
        "id": "-deWu7neQ-Q9",
        "outputId": "a4755ddf-29f4-4e8b-9f59-f7c0c7a28915"
      },
      "execution_count": 9,
      "outputs": [
        {
          "output_type": "stream",
          "name": "stdout",
          "text": [
            "((¬A∨B)→¬(A↔B))\n",
            "True\n",
            "(¬(¬A∨B)∨¬((A∧B)∨(¬A∧¬B)))\n"
          ]
        }
      ]
    },
    {
      "cell_type": "code",
      "source": [
        "# Eval\n",
        "def check2(t:Tree):\n",
        "  print(\"Eval\",t,\":\",t.eval({'A':False,'B':False}),\",\",end='')\n",
        "  print(t.eval({'A':False,'B':True}),\",\",end='')\n",
        "  print(t.eval({'A':True,'B':False}),\",\",end='')\n",
        "  print(t.eval({'A':True,'B':True}))\n",
        "\n",
        "def transform_step1(tree:Tree,debug=False):\n",
        "  # if debug: print(\"Work on\",tree,end='')\n",
        "  # Get rid of double negation\n",
        "  # if debug: print(\" -- Node:\",tree.c_typ,tree.c_val)\n",
        "  if tree.c_typ == \"ATOM\": return True\n",
        "  if tree.c_typ == \"2OP\":\n",
        "    return transform_step1(tree.left,debug) and transform_step1(tree.right,debug)\n",
        "  if tree.c_typ == \"1OP\":\n",
        "    tl = tree.left\n",
        "    if tl.c_typ == \"1OP\":\n",
        "      # Doppelverneinung tree/NOT -> tl/NOT -> tl.left=child\n",
        "      # Copy content from child to tree, except the parent,\n",
        "      # which remains unchanged\n",
        "      child = tl.left\n",
        "      tree.c_typ = child.c_typ\n",
        "      tree.c_val = child.c_val\n",
        "      tree.left = child.left\n",
        "      tree.right = child.right\n",
        "      return transform_step1(tree,debug)\n",
        "    elif tl.c_typ == \"2OP\":\n",
        "      # DeMorgan tree/Not -> tl/'∨,∧'\n",
        "      if tl.c_val in ['∨','∧']:\n",
        "        new_op = '∨' if tl.c_val == '∧' else '∧'\n",
        "        tree.c_typ = \"2OP\"\n",
        "        tree.c_val = new_op\n",
        "        tree.left=Tree('¬',parent=tree,left=tl.left)\n",
        "        tree.right=Tree('¬',parent=tree,left=tl.right)\n",
        "        return transform_step1(tree,debug)\n",
        "      return transform_step1(tl,debug)\n",
        "    else:\n",
        "      return transform_step1(tl,debug)\n",
        "  else:\n",
        "    print(\"ERROR: UNKNOWN TYPE\")\n",
        "    return False\n",
        "\n",
        "F = '((¬A ∨ B) → ¬(A ↔ B))'\n",
        "res = create_tree(parse_formel(Tokenlist(tokenize(F)),\"\"))\n",
        "check2(res)\n",
        "print(\"Formula:\",res)\n",
        "transform_step0(res,debug=False)\n",
        "print(\"Schritt 0:\",res)\n",
        "check2(res)\n",
        "transform_step1(res,debug=False)\n",
        "print(\"Schritt 1:\",res)\n",
        "check2(res)\n",
        "\n",
        "## Note: this solution is for formulas with strictly correct syntax,\n",
        "## this is ((AVB)VC) or (Av(BvC)) instead of (AvBvC)."
      ],
      "metadata": {
        "colab": {
          "base_uri": "https://localhost:8080/"
        },
        "id": "jMuWHMKA9XBN",
        "outputId": "66cd25c6-1465-40c7-8636-9e50ce33fe5c"
      },
      "execution_count": 10,
      "outputs": [
        {
          "output_type": "stream",
          "name": "stdout",
          "text": [
            "Eval ((¬A∨B)→¬(A↔B)) : False ,True ,True ,False\n",
            "Formula: ((¬A∨B)→¬(A↔B))\n",
            "Schritt 0: (¬(¬A∨B)∨¬((A∧B)∨(¬A∧¬B)))\n",
            "Eval (¬(¬A∨B)∨¬((A∧B)∨(¬A∧¬B))) : False ,True ,True ,False\n",
            "Schritt 1: ((A∧¬B)∨((¬A∨¬B)∧(A∨B)))\n",
            "Eval ((A∧¬B)∨((¬A∨¬B)∧(A∨B))) : False ,True ,True ,False\n"
          ]
        }
      ]
    },
    {
      "cell_type": "code",
      "source": [
        "def transform_step2(tree:Tree,debug=False):\n",
        "  if debug: print(\"Work on\",tree,\"(\",tree.c_typ,\"/\",tree.c_val,\")\")\n",
        "  if tree.c_typ == \"ATOM\": return True\n",
        "  if tree.c_typ == \"1OP\": return transform_step2(tree.left,debug)\n",
        "  if tree.c_typ == \"2OP\":\n",
        "    op1 = tree.c_val\n",
        "    if op1 == '∨':\n",
        "      tl = tree.left\n",
        "      tr = tree.right\n",
        "      change = False\n",
        "      if tl.c_typ == \"2OP\" and '∧' == tl.c_val:\n",
        "        if debug: print(\"  Transform ((G∧H)∨F) to ((F∨G)∧(F∨H))\")\n",
        "        if debug: print(\"  Transform (\",tl,op1,tr,\") to ((\",tl.left,op1,tr,\")\",'∧',\"(\",tl.right,op1,tr,\"))\")\n",
        "        new_node_l = Tree(op1,parent=tree,left=tl.left,right=tree.right)\n",
        "        new_node_r = Tree(op1,parent=tree,left=tl.right,\n",
        "                                          right=copy.deepcopy(tree.right))\n",
        "        change = True\n",
        "      elif tr.c_typ == \"2OP\" and '∧' == tr.c_val:\n",
        "        if debug: print(\"  Transform (F∨(G∧H)) to ((F∨G)∧(F∨H))\")\n",
        "        if debug: print(\"  Transform (\",tl,op1,tr,\") to ((\",tl,op1,tr.left,\")\",'∧',\"(\",tl,op1,tr.right,\"))\")\n",
        "        new_node_l = Tree(op1,parent=tree,left=tree.left,right=tr.left)\n",
        "        new_node_r = Tree(op1,parent=tree,left=copy.deepcopy(tree.left),right=tr.right)\n",
        "        change = True\n",
        "      if change:\n",
        "        tree.c_val = '∧'\n",
        "        tree.left = new_node_l\n",
        "        tree.right = new_node_r\n",
        "        ## if you comment out the following if,\n",
        "        ## an error will occur in some formulas, for example in\n",
        "        ## F4 = (((¬C ∧ B) ∧ ((C ∧ A) ∨ (B ∧ (A → C)))) → (B ∨ (A → C)))\n",
        "        ## because an OR is changed downstream of another OR to an AND,\n",
        "        ## violating our structural condition: no AND below an OR\n",
        "        ## To prevent this, we have to check the upstream operator after\n",
        "        ## a change to an AND for being an OR (this may bubble up!)\n",
        "        if debug: print(\"Parent: \",tree.parent)\n",
        "        if tree.parent and tree.parent.c_val == '∨':\n",
        "          if debug: print(\"Propagate change of OR upstream! \\n  \",tree.parent)\n",
        "          return transform_step2(tree.parent,debug)\n",
        "    return transform_step2(tree.left,debug) \\\n",
        "              and transform_step2(tree.right,debug)\n",
        "  else:\n",
        "    print(\"ERROR, unknown node type!\")\n",
        "    return False\n",
        "\n",
        "F = '((¬A ∨ B) → ¬(A ↔ B))'\n",
        "res = create_tree(parse_formel(Tokenlist(tokenize(F)),\"\"))\n",
        "check2(res)\n",
        "print(\"Formula:\",res)\n",
        "transform_step0(res,debug=False)\n",
        "print(\"Schritt 0:\",res)\n",
        "check2(res)\n",
        "transform_step1(res,debug=False)\n",
        "print(\"Schritt 1:\",res)\n",
        "check2(res)\n",
        "transform_step2(res,debug=False)\n",
        "print(\"Schritt 2:\",res)\n",
        "check2(res)"
      ],
      "metadata": {
        "colab": {
          "base_uri": "https://localhost:8080/"
        },
        "id": "CGnP4TfC4Nr_",
        "outputId": "1c7be581-5c03-4305-ebb4-aaf304fdf74e"
      },
      "execution_count": 11,
      "outputs": [
        {
          "output_type": "stream",
          "name": "stdout",
          "text": [
            "Eval ((¬A∨B)→¬(A↔B)) : False ,True ,True ,False\n",
            "Formula: ((¬A∨B)→¬(A↔B))\n",
            "Schritt 0: (¬(¬A∨B)∨¬((A∧B)∨(¬A∧¬B)))\n",
            "Eval (¬(¬A∨B)∨¬((A∧B)∨(¬A∧¬B))) : False ,True ,True ,False\n",
            "Schritt 1: ((A∧¬B)∨((¬A∨¬B)∧(A∨B)))\n",
            "Eval ((A∧¬B)∨((¬A∨¬B)∧(A∨B))) : False ,True ,True ,False\n",
            "Schritt 2: (((A∨(¬A∨¬B))∧(A∨(A∨B)))∧((¬B∨(¬A∨¬B))∧(¬B∨(A∨B))))\n",
            "Eval (((A∨(¬A∨¬B))∧(A∨(A∨B)))∧((¬B∨(¬A∨¬B))∧(¬B∨(A∨B)))) : False ,True ,True ,False\n"
          ]
        }
      ]
    },
    {
      "cell_type": "code",
      "source": [
        "## Here, the complete flow for some formulas (check2 works only for two atoms\n",
        "## but it is easily generalizable, try yourself...ah, lets do it partially..\n",
        "## -- atoms could be extracted from the tree ... and be sorted alphabetically ;)\n",
        "def check_(t:Tree,atoms,debug=False):\n",
        "  def perm(atoms):\n",
        "    if len(atoms)==0: return [dict()]\n",
        "    res1 = dict()\n",
        "    res1[atoms[-1]] = True\n",
        "    res2 = dict()\n",
        "    res2[atoms[-1]] = False\n",
        "    perms = perm(atoms[0:-1])\n",
        "    res = []\n",
        "    for p in perms:\n",
        "      dic1 = {**p,**res1}\n",
        "      dic2 = {**p,**res2}\n",
        "      res.append(dic1)\n",
        "      res.append(dic2)\n",
        "    return res\n",
        "\n",
        "  perms = perm(atoms)\n",
        "  print(\"Eval\",t,\": \\n    \",end='')\n",
        "  for p in perms:\n",
        "    if debug:\n",
        "      print(p,t.eval(p),\",\") # long output\n",
        "    else:\n",
        "      print(t.eval(p),\",\",end='')\n",
        "  print(\"\")\n",
        "\n",
        "def process2(f,check=True,debug=False):\n",
        "  res = create_tree(parse_formel(Tokenlist(tokenize(f)),\"\"))\n",
        "  check_parents(res)\n",
        "  check2(res) if check else print(\"Formula: \",res)\n",
        "  print(\"Step 0\",transform_step0(res,debug=debug),\":\",res)\n",
        "  check_parents(res)\n",
        "  print(\"Step 1\",transform_step1(res,debug=debug),\":\",res)\n",
        "  check_parents(res)\n",
        "  print(\"Step 2\",transform_step2(res,debug=debug),\":\",res)\n",
        "  check_parents(res)\n",
        "  if check: check2(res)\n",
        "  return res\n",
        "\n",
        "def process(f,atoms,debug=False):\n",
        "  res = create_tree(parse_formel(Tokenlist(tokenize(f)),\"\"))\n",
        "  check_(res,atoms)\n",
        "  check_parents(res)\n",
        "  print(\"Step 0\",transform_step0(res,debug=debug),\":\",res)\n",
        "  check_parents(res)\n",
        "  print(\"Step 1\",transform_step1(res,debug=debug),\":\",res)\n",
        "  check_parents(res)\n",
        "  print(\"Step 2\",transform_step2(res,debug=debug),\":\",res)\n",
        "  check_parents(res)\n",
        "  check_(res,atoms)\n",
        "  return res\n",
        "\n",
        "F = '((¬A ∨ B) → ¬(A ↔ B))'\n",
        "process2(F)\n",
        "\n",
        "print(\"\\nNext formula:\")\n",
        "F = '(¬((¬A → ¬B) ↔ ¬(A ↔ B))∨(B ↔ ¬(A ∧ ¬B)))'\n",
        "process2(F,check=True)\n",
        "\n",
        "print(\"\\nNext formula:\")\n",
        "F = '((¬A ∧ ¬B) ∨ C)'\n",
        "process(F,atoms=['A','B','C'])\n",
        "\n",
        "print(\"\\nNext formula:\")\n",
        "F = '(¬((¬A → ¬B) ↔ ¬(A → C)))'\n",
        "process(F,atoms=['A','B','C']);\n"
      ],
      "metadata": {
        "colab": {
          "base_uri": "https://localhost:8080/"
        },
        "id": "kzRMc7DjcZ-f",
        "outputId": "0fb5544b-9a6e-4c60-dd96-84de400e3705"
      },
      "execution_count": 12,
      "outputs": [
        {
          "output_type": "stream",
          "name": "stdout",
          "text": [
            "Eval ((¬A∨B)→¬(A↔B)) : False ,True ,True ,False\n",
            "Step 0 True : (¬(¬A∨B)∨¬((A∧B)∨(¬A∧¬B)))\n",
            "Step 1 True : ((A∧¬B)∨((¬A∨¬B)∧(A∨B)))\n",
            "Step 2 True : (((A∨(¬A∨¬B))∧(A∨(A∨B)))∧((¬B∨(¬A∨¬B))∧(¬B∨(A∨B))))\n",
            "Eval (((A∨(¬A∨¬B))∧(A∨(A∨B)))∧((¬B∨(¬A∨¬B))∧(¬B∨(A∨B)))) : False ,True ,True ,False\n",
            "\n",
            "Next formula:\n",
            "Eval (¬((¬A→¬B)↔¬(A↔B))∨(B↔¬(A∧¬B))) : True ,True ,True ,True\n",
            "Step 0 True : (¬(((¬¬A∨¬B)∧¬((¬A∨B)∧(¬B∨A)))∨(¬(¬¬A∨¬B)∧¬¬((A∧B)∨(¬A∧¬B))))∨((¬B∨¬(A∧¬B))∧(¬¬(A∧¬B)∨B)))\n",
            "Step 1 True : ((((¬A∧B)∨((¬A∨B)∧(¬B∨A)))∧((A∨¬B)∨((¬A∨¬B)∧(A∨B))))∨((¬B∨(¬A∨B))∧((A∧¬B)∨B)))\n",
            "Step 2 True : ((((((¬A∨(¬A∨B))∨(¬B∨(¬A∨B)))∧((¬A∨(¬B∨A))∨(¬B∨(¬A∨B))))∧(((B∨(¬A∨B))∨(¬B∨(¬A∨B)))∧((B∨(¬B∨A))∨(¬B∨(¬A∨B)))))∧(((((¬A∨(¬A∨B))∨(A∨B))∧((¬A∨(¬A∨B))∨(¬B∨B)))∧(((¬A∨(¬B∨A))∨(A∨B))∧((¬A∨(¬B∨A))∨(¬B∨B))))∧((((B∨(¬A∨B))∨(A∨B))∧((B∨(¬A∨B))∨(¬B∨B)))∧(((B∨(¬B∨A))∨(A∨B))∧((B∨(¬B∨A))∨(¬B∨B))))))∧(((((A∨¬B)∨(¬A∨¬B))∨(¬B∨(¬A∨B)))∧(((A∨¬B)∨(A∨B))∨(¬B∨(¬A∨B))))∧(((((A∨¬B)∨(¬A∨¬B))∨(A∨B))∧(((A∨¬B)∨(¬A∨¬B))∨(¬B∨B)))∧((((A∨¬B)∨(A∨B))∨(A∨B))∧(((A∨¬B)∨(A∨B))∨(¬B∨B))))))\n",
            "Eval ((((((¬A∨(¬A∨B))∨(¬B∨(¬A∨B)))∧((¬A∨(¬B∨A))∨(¬B∨(¬A∨B))))∧(((B∨(¬A∨B))∨(¬B∨(¬A∨B)))∧((B∨(¬B∨A))∨(¬B∨(¬A∨B)))))∧(((((¬A∨(¬A∨B))∨(A∨B))∧((¬A∨(¬A∨B))∨(¬B∨B)))∧(((¬A∨(¬B∨A))∨(A∨B))∧((¬A∨(¬B∨A))∨(¬B∨B))))∧((((B∨(¬A∨B))∨(A∨B))∧((B∨(¬A∨B))∨(¬B∨B)))∧(((B∨(¬B∨A))∨(A∨B))∧((B∨(¬B∨A))∨(¬B∨B))))))∧(((((A∨¬B)∨(¬A∨¬B))∨(¬B∨(¬A∨B)))∧(((A∨¬B)∨(A∨B))∨(¬B∨(¬A∨B))))∧(((((A∨¬B)∨(¬A∨¬B))∨(A∨B))∧(((A∨¬B)∨(¬A∨¬B))∨(¬B∨B)))∧((((A∨¬B)∨(A∨B))∨(A∨B))∧(((A∨¬B)∨(A∨B))∨(¬B∨B)))))) : True ,True ,True ,True\n",
            "\n",
            "Next formula:\n",
            "Eval ((¬A∧¬B)∨C) : \n",
            "    True ,False ,True ,False ,True ,False ,True ,True ,\n",
            "Step 0 True : ((¬A∧¬B)∨C)\n",
            "Step 1 True : ((¬A∧¬B)∨C)\n",
            "Step 2 True : ((¬A∨C)∧(¬B∨C))\n",
            "Eval ((¬A∨C)∧(¬B∨C)) : \n",
            "    True ,False ,True ,False ,True ,False ,True ,True ,\n",
            "\n",
            "Next formula:\n",
            "Eval ¬((¬A→¬B)↔¬(A→C)) : \n",
            "    True ,False ,True ,False ,False ,False ,True ,True ,\n",
            "Step 0 True : ¬(((¬¬A∨¬B)∧¬(¬A∨C))∨(¬(¬¬A∨¬B)∧¬¬(¬A∨C)))\n",
            "Step 1 True : (((¬A∧B)∨(¬A∨C))∧((A∨¬B)∨(A∧¬C)))\n",
            "Step 2 True : (((¬A∨(¬A∨C))∧(B∨(¬A∨C)))∧(((A∨¬B)∨A)∧((A∨¬B)∨¬C)))\n",
            "Eval (((¬A∨(¬A∨C))∧(B∨(¬A∨C)))∧(((A∨¬B)∨A)∧((A∨¬B)∨¬C))) : \n",
            "    True ,False ,True ,False ,False ,False ,True ,True ,\n"
          ]
        }
      ]
    },
    {
      "cell_type": "code",
      "source": [
        "def check_inner_negs(t:Tree):\n",
        "  # First check fpr outer negations\n",
        "  if t.c_typ == \"ATOM\": return True\n",
        "  if t.c_typ == \"1OP\":\n",
        "    return False if t.left.c_typ != \"ATOM\" else True\n",
        "  if t.c_typ == \"2OP\":\n",
        "    return check_inner_negs(t.left) and check_inner_negs(t.right)\n",
        "\n",
        "def check_no_arrows(t:Tree):\n",
        "  if t.c_typ == \"ATOM\": return True\n",
        "  if t.c_typ == \"1OP\":\n",
        "    return check_no_arrows(t.left)\n",
        "  if t.c_typ == \"2OP\":\n",
        "    if t.c_val not in ['∨','∧']: return False\n",
        "    return check_no_arrows(t.left) and check_no_arrows(t.right)\n",
        "\n",
        "def check_and_of_ors(t:Tree,debug=False,pre=0):\n",
        "  if debug: print(pre*'  ',\"Check OP:\",t.c_typ,\"/\",t.c_val)\n",
        "  if t.c_typ == \"ATOM\": return True\n",
        "  if t.c_typ == \"1OP\":\n",
        "    return check_and_of_ors(t.left,debug=debug,pre=pre+1)\n",
        "  if t.c_typ == \"2OP\":\n",
        "    if debug: print(pre*'  ',t.c_val,\":\",t,\"\\n  Left:\",t.left,\"|\",t.left.c_val,\"\\n Right:\",t.right,\"|\",t.right.c_val)\n",
        "    if t.c_val == '∨':\n",
        "      if t.left.c_val == '∧' or t.right.c_val == '∧':\n",
        "        if debug: print(pre*'  ',\"Error in\",t.left,\"|\",t.left.c_val,t.c_val,t.right,\"|\",t.right.c_val)\n",
        "        return False\n",
        "    return check_and_of_ors(t.left,debug=debug,pre=pre+1) and check_and_of_ors(t.right,debug=debug,pre=pre+1)\n",
        "\n",
        "f = '(¬(C ∨ ((A ↔ (A ↔ C)) → B)) ∧ (((A ∧ C) ∧ B) ∨ (B → A)))'\n",
        "res = create_tree(parse_formel(Tokenlist(tokenize(f)),\"\"))\n",
        "print(f)\n",
        "print(\"Do we have only innermost negations?\",check_inner_negs(res))\n",
        "print(\"Do we have only have ANDs and ORs?\",check_no_arrows(res))\n",
        "print(\"Are ORs only parents of other ORs?\",check_and_of_ors(res),\"\\n\")\n",
        "\n",
        "res = process(f,atoms=['A','B','C'],debug=False)\n",
        "print(\"Do we have only innermost negations?\",check_inner_negs(res))\n",
        "print(\"Do we have only have ANDs and ORs?\",check_no_arrows(res))\n",
        "print(\"Are ORs only parents of other ORs?\",check_and_of_ors(res))\n"
      ],
      "metadata": {
        "colab": {
          "base_uri": "https://localhost:8080/"
        },
        "id": "d_AVbFlaBKkV",
        "outputId": "a7ff4738-f21d-478a-d40a-00788b7db6b0"
      },
      "execution_count": 13,
      "outputs": [
        {
          "output_type": "stream",
          "name": "stdout",
          "text": [
            "(¬(C ∨ ((A ↔ (A ↔ C)) → B)) ∧ (((A ∧ C) ∧ B) ∨ (B → A)))\n",
            "Do we have only innermost negations? False\n",
            "Do we have only have ANDs and ORs? False\n",
            "Are ORs only parents of other ORs? False \n",
            "\n",
            "Eval (¬(C∨((A↔(A↔C))→B))∧(((A∧C)∧B)∨(B→A))) : \n",
            "    False ,False ,False ,False ,False ,False ,False ,False ,\n",
            "Step 0 True : (¬(C∨(¬((¬A∨((¬A∨C)∧(¬C∨A)))∧(¬((A∧C)∨(¬A∧¬C))∨A))∨B))∧(((A∧C)∧B)∨(¬B∨A)))\n",
            "Step 1 True : ((¬C∧(((¬A∨((¬A∨C)∧(¬C∨A)))∧(((¬A∨¬C)∧(A∨C))∨A))∧¬B))∧(((A∧C)∧B)∨(¬B∨A)))\n",
            "Step 2 True : ((¬C∧((((¬A∨(¬A∨C))∧(¬A∨(¬C∨A)))∧(((¬A∨¬C)∨A)∧((A∨C)∨A)))∧¬B))∧(((A∨(¬B∨A))∧(C∨(¬B∨A)))∧(B∨(¬B∨A))))\n",
            "Eval ((¬C∧((((¬A∨(¬A∨C))∧(¬A∨(¬C∨A)))∧(((¬A∨¬C)∨A)∧((A∨C)∨A)))∧¬B))∧(((A∨(¬B∨A))∧(C∨(¬B∨A)))∧(B∨(¬B∨A)))) : \n",
            "    False ,False ,False ,False ,False ,False ,False ,False ,\n",
            "Do we have only innermost negations? True\n",
            "Do we have only have ANDs and ORs? True\n",
            "Are ORs only parents of other ORs? True\n"
          ]
        }
      ]
    },
    {
      "cell_type": "code",
      "source": [
        "F1 = '((¬B ↔ A) ↔ (((C ∨ B) → ((B → C) ↔ ¬A)) ↔ (B ∨ A)))'\n",
        "F2 = '((B → C) → ((((C ∧ (A ∧ B)) ↔ (A ∨ C)) ∨ (B ∨ B)) ↔ (C ↔ A)))'\n",
        "F3 = '((C ∧ A) ∨ ((C → B) ∨ (¬(A → A) ↔ ((¬C ∧ B) ∨ B))))'\n",
        "F4 = '(((¬C ∧ B) ∧ ((C ∧ A) ∨ (B ∧ (A → C)))) → (B ∨ (A → C)))'\n",
        "F5 = '¬(((B ∨ (C ↔ A)) ↔ (A ∨ (B ↔ C))) ∨ (A ∨ (C → B)))'\n",
        "F6 = '¬((¬(¬C ∧ (B → C)) ∧ ¬A) ↔ ((C ∨ B) → A))'\n",
        "F7 = '(¬(C ∨ ((A ↔ (A ↔ C)) → B)) ∧ (((A ∧ C) ∧ B) ∨ (B → A)))'\n",
        "\n",
        "F8 = '(((¬C∧(¬B∨C))∨A)∨((C∨B)∧¬A))'\n",
        "\n",
        "## Oder in ausführlicherer Form:\n",
        "# formulas = [F1,F2,F3,F4,F5,F6,F7]\n",
        "formulas = [F6,F8]\n",
        "for f in formulas:\n",
        "  print(f)\n",
        "  res = process(f,atoms=['A','B','C'],debug=False)\n",
        "  # res = process(f,atoms=['A','B','C'],debug=True)\n",
        "  print(\"Do we have only innermost negations?\",check_inner_negs(res))\n",
        "  print(\"Check parent?\",check_parents(res))\n",
        "  print(\"Do we have only have ANDs and ORs?\",check_no_arrows(res))\n",
        "  print(\"Check parent?\",check_parents(res))\n",
        "  print(\"Are ORs only parents of other ORs?\",check_and_of_ors(res,debug=False))\n",
        "  print(\"Check parent?\",check_parents(res))\n",
        "  print(\"\")"
      ],
      "metadata": {
        "colab": {
          "base_uri": "https://localhost:8080/"
        },
        "id": "NOkc8jaHwk0P",
        "outputId": "fd8dc223-de4b-4c42-d0c7-aab4eaf17634"
      },
      "execution_count": 14,
      "outputs": [
        {
          "output_type": "stream",
          "name": "stdout",
          "text": [
            "¬((¬(¬C ∧ (B → C)) ∧ ¬A) ↔ ((C ∨ B) → A))\n",
            "Eval ¬((¬(¬C∧(B→C))∧¬A)↔((C∨B)→A)) : \n",
            "    True ,True ,True ,True ,True ,True ,True ,True ,\n",
            "Step 0 True : ¬(((¬(¬C∧(¬B∨C))∧¬A)∧(¬(C∨B)∨A))∨(¬(¬(¬C∧(¬B∨C))∧¬A)∧¬(¬(C∨B)∨A)))\n",
            "Step 1 True : ((((¬C∧(¬B∨C))∨A)∨((C∨B)∧¬A))∧(((C∨(B∧¬C))∧¬A)∨((¬C∧¬B)∨A)))\n",
            "Step 2 True : (((((¬C∨A)∨(C∨B))∧(((¬B∨C)∨A)∨(C∨B)))∧(((¬C∨A)∨¬A)∧(((¬B∨C)∨A)∨¬A)))∧(((((C∨B)∨(¬C∨A))∧((C∨B)∨(¬B∨A)))∧(((C∨¬C)∨(¬C∨A))∧((C∨¬C)∨(¬B∨A))))∧((¬A∨(¬C∨A))∧(¬A∨(¬B∨A)))))\n",
            "Eval (((((¬C∨A)∨(C∨B))∧(((¬B∨C)∨A)∨(C∨B)))∧(((¬C∨A)∨¬A)∧(((¬B∨C)∨A)∨¬A)))∧(((((C∨B)∨(¬C∨A))∧((C∨B)∨(¬B∨A)))∧(((C∨¬C)∨(¬C∨A))∧((C∨¬C)∨(¬B∨A))))∧((¬A∨(¬C∨A))∧(¬A∨(¬B∨A))))) : \n",
            "    True ,True ,True ,True ,True ,True ,True ,True ,\n",
            "Do we have only innermost negations? True\n",
            "Check parent? True\n",
            "Do we have only have ANDs and ORs? True\n",
            "Check parent? True\n",
            "Are ORs only parents of other ORs? True\n",
            "Check parent? True\n",
            "\n",
            "(((¬C∧(¬B∨C))∨A)∨((C∨B)∧¬A))\n",
            "Eval (((¬C∧(¬B∨C))∨A)∨((C∨B)∧¬A)) : \n",
            "    True ,True ,True ,True ,True ,True ,True ,True ,\n",
            "Step 0 True : (((¬C∧(¬B∨C))∨A)∨((C∨B)∧¬A))\n",
            "Step 1 True : (((¬C∧(¬B∨C))∨A)∨((C∨B)∧¬A))\n",
            "Step 2 True : ((((¬C∨A)∨(C∨B))∧(((¬B∨C)∨A)∨(C∨B)))∧(((¬C∨A)∨¬A)∧(((¬B∨C)∨A)∨¬A)))\n",
            "Eval ((((¬C∨A)∨(C∨B))∧(((¬B∨C)∨A)∨(C∨B)))∧(((¬C∨A)∨¬A)∧(((¬B∨C)∨A)∨¬A))) : \n",
            "    True ,True ,True ,True ,True ,True ,True ,True ,\n",
            "Do we have only innermost negations? True\n",
            "Check parent? True\n",
            "Do we have only have ANDs and ORs? True\n",
            "Check parent? True\n",
            "Are ORs only parents of other ORs? True\n",
            "Check parent? True\n",
            "\n"
          ]
        }
      ]
    },
    {
      "cell_type": "markdown",
      "source": [
        "## Umgang mit Klammern\n",
        "\n",
        "Die Formeln, die wir bis jetzt erzeugen, entsprechen der initialen Definition zur Syntax unserer Formeln, sind also so geklammert, dass die Struktur der Formeln eindeutig wiedergegeben wird (wir können die Formeln in eindeutiger Weise in eine Baumstruktur überführen, es ist für jede Teilformel klar, welcher Operator der Top-Level-Operator ist).\n",
        "\n",
        "Jetzt wollen wir sie in die in der KNF-Definition vorgesehene Form bringen. Geben wir ein Beispiel:\n",
        "\n",
        "Aus (((¬C∧(¬B∨C))∨A)∨((C∨B)∧¬A)) erzeugen wir\n",
        "\n",
        "((((¬C∨A)∨(C∨B))∧(((¬B∨C)∨A)∨(C∨B)))∧(((¬C∨A)∨¬A)∧(((¬B∨C)∨A)∨¬A)))\n",
        "\n",
        "Die gewünschte Form ist:\n",
        "\n",
        "(¬C∨A∨C∨B)∧(¬B∨C∨A∨C∨B)∧(¬C∨A∨¬A)∧(¬B∨C∨A∨¬A)\n",
        "\n",
        "Dies implementieren wir rein auf der Ausgabeebene, wir verändern also die zugrunde liegende Baumstruktur nicht.\n",
        "\n",
        "\n"
      ],
      "metadata": {
        "id": "Iazq_lHv9LDm"
      }
    },
    {
      "cell_type": "code",
      "source": [
        "##\n",
        "def reduce_braces(t:Tree,first=False):\n",
        "  '''\n",
        "  ((((¬C∨A)∨(C∨B))∧(((¬B∨C)∨A)∨(C∨B)))∧(((¬C∨A)∨¬A)∧(((¬B∨C)∨A)∨¬A)))\n",
        "  What is the idea of this reduction?\n",
        "  We already know that we have no ANDs below an OR.\n",
        "  We only set braces when we start with a new \"top-level\" OR.\n",
        "  (¬C∨A∨C∨B)∧(¬B∨C∨A∨C∨B)∧(¬C∨A∨¬A)∧(¬B∨C∨A∨¬A)\n",
        "  '''\n",
        "  if t.c_typ == \"ATOM\": return t.c_val\n",
        "  if t.c_typ == \"1OP\":\n",
        "    return t.c_val + reduce_braces(t.left)\n",
        "  if t.c_typ == \"2OP\":\n",
        "    if t.c_val == '∨':\n",
        "      res = reduce_braces(t.left) + '∨' + reduce_braces(t.right)\n",
        "      return \"(\" + res + \")\" if first else res\n",
        "    if t.c_val == '∧':\n",
        "      return reduce_braces(t.left,True) + '∧' + reduce_braces(t.right,True)\n",
        "    print(\"ERROR: Formula\",t,\"is not in KNF!\")\n",
        "\n",
        "print(reduce_braces(res,True))"
      ],
      "metadata": {
        "colab": {
          "base_uri": "https://localhost:8080/"
        },
        "id": "Ie44wes49KTo",
        "outputId": "a02597b1-688a-480c-9fc4-a64230168ded"
      },
      "execution_count": 19,
      "outputs": [
        {
          "output_type": "stream",
          "name": "stdout",
          "text": [
            "(¬C∨A∨C∨B)∧(¬B∨C∨A∨C∨B)∧(¬C∨A∨¬A)∧(¬B∨C∨A∨¬A)\n"
          ]
        }
      ]
    },
    {
      "cell_type": "code",
      "source": [
        "## Complete flow for a formula\n",
        "F = \"¬((¬(¬C ∧ (B → C)) ∧ ¬A) → ((C ∨ B) → A))\"\n",
        "res = process(F,atoms=['A','B','C'],debug=False)\n",
        "print(\"\\nKNF:\", reduce_braces(res,True),\"\\n\\n\")\n",
        "\n",
        "F = \"(((¬C∧(¬B∨C))∨A)→((C∨B)∧¬A))\"\n",
        "res = process(F,atoms=['A','B','C'],debug=False)\n",
        "print(\"\\nKNF:\", reduce_braces(res,True))"
      ],
      "metadata": {
        "colab": {
          "base_uri": "https://localhost:8080/"
        },
        "id": "pV1Hea8qDXvR",
        "outputId": "2b7c0c4b-3cdb-4810-d38d-1b9446353d42"
      },
      "execution_count": 26,
      "outputs": [
        {
          "output_type": "stream",
          "name": "stdout",
          "text": [
            "Eval ¬((¬(¬C∧(B→C))∧¬A)→((C∨B)→A)) : \n",
            "    False ,False ,False ,False ,True ,True ,True ,False ,\n",
            "Step 0 True : ¬(¬(¬(¬C∧(¬B∨C))∧¬A)∨(¬(C∨B)∨A))\n",
            "Step 1 True : (((C∨(B∧¬C))∧¬A)∧((C∨B)∧¬A))\n",
            "Step 2 True : ((((C∨B)∧(C∨¬C))∧¬A)∧((C∨B)∧¬A))\n",
            "Eval ((((C∨B)∧(C∨¬C))∧¬A)∧((C∨B)∧¬A)) : \n",
            "    False ,False ,False ,False ,True ,True ,True ,False ,\n",
            "\n",
            "KNF: (C∨B)∧(C∨¬C)∧¬A∧(C∨B)∧¬A \n",
            "\n",
            "\n",
            "Eval (((¬C∧(¬B∨C))∨A)→((C∨B)∧¬A)) : \n",
            "    False ,False ,False ,False ,True ,True ,True ,False ,\n",
            "Step 0 True : (¬((¬C∧(¬B∨C))∨A)∨((C∨B)∧¬A))\n",
            "Step 1 True : (((C∨(B∧¬C))∧¬A)∨((C∨B)∧¬A))\n",
            "Step 2 True : (((((C∨B)∨(C∨B))∧((C∨¬C)∨(C∨B)))∧(((C∨B)∨¬A)∧((C∨¬C)∨¬A)))∧((¬A∨(C∨B))∧(¬A∨¬A)))\n",
            "Eval (((((C∨B)∨(C∨B))∧((C∨¬C)∨(C∨B)))∧(((C∨B)∨¬A)∧((C∨¬C)∨¬A)))∧((¬A∨(C∨B))∧(¬A∨¬A))) : \n",
            "    False ,False ,False ,False ,True ,True ,True ,False ,\n",
            "\n",
            "KNF: (C∨B∨C∨B)∧(C∨¬C∨C∨B)∧(C∨B∨¬A)∧(C∨¬C∨¬A)∧(¬A∨C∨B)∧(¬A∨¬A)\n"
          ]
        }
      ]
    },
    {
      "cell_type": "code",
      "source": [
        "# UNUSED\n",
        "# Zeichen für die Syntax von Formeln:\n",
        "op_mimp = '→' # Materiale Implikation\n",
        "op_meq = '↔'  # Materiale Äquivalenz\n",
        "op_and = '∧'  # AND\n",
        "op_or  = '∨'  # OR\n",
        "op_not = '¬'  # NOT\n",
        "\n",
        "chars = ['→','↔','∧','∨']\n",
        "\n",
        "# Semantische Beziehung zwischen Formeln\n",
        "op_seq = '≡' # Semantische Äquivalenz\n"
      ],
      "metadata": {
        "id": "Lycg0FvrZvoq"
      },
      "execution_count": null,
      "outputs": []
    },
    {
      "cell_type": "code",
      "source": [],
      "metadata": {
        "id": "ZSJYVDXnU3ti"
      },
      "execution_count": null,
      "outputs": []
    }
  ]
}