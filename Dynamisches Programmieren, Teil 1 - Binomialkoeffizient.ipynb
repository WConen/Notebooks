{
 "cells": [
  {
   "cell_type": "markdown",
   "metadata": {},
   "source": [
    "## Prüfungsangst...\n",
    "\n",
    "Ein Wirtschaftsinformatiker, der in der [aktuellen 2016er-Version](https://www.w-hs.de/fileadmin/public/user_upload/BPO_Wirtschaftsinformatik_2016.pdf) der Prüfungsordnung studiert, muss 23 \"normale\" Modulprüfungen ablegen. Er muss alle bestehen. Wir schätzen mal (auf Basis unserer Lebenserfahrung ;) die mittlere Durchfallswahrscheinlichkeit beim ersten Antreten über alle denkbare Module, $p_{-}$, für den \"durchschnittlichen männlichen Studierenden der Wirtschaftsinformatik, der auch erfolgreich zu Ende studiert\":\n",
    "\n",
    "$p_{-} = 0.3$\n",
    "\n",
    "Die Bestehenswahrscheinlichkeit, $p_{+}$, in Erstversuchen ist demnach also\n",
    "\n",
    "$p_{+} = 1-p_{-} = 1-0.3 = 0.7$ (wir verwenden hier \".\" statt $,$, um die \"Nachkommastellen\" abzutrennen, damit das konsistent zum noch folgenden Code ist).\n",
    "\n",
    "Jetzt betrachten wir den (fiktiven, aber total durchschnittlichen und erfolgreichen) Studierenden _Eugen_ aus der (noch nicht existenten) Klasse der oben erwähnten Studierenden. _Eugen_ hat also sein Wirtschaftsinformatik-Studium erfolgreich beendet und dabei 23 \"normale\" Modulprüfungen letztlich erfolgreich abgelegt - allerdings nicht unbedingt im ersten Versuch.\n",
    "\n",
    "Jetzt kommen die Fragen: \n",
    "\n",
    "(1) Wie gross ist die Wahrscheinlichkeit, dass _Eugen_ alle 23 Prüfungen im ersten Versuch bestanden hat?\n",
    "\n",
    "(2) Wie gross ist die Wahrscheinlichkeit, dass _Eugen_ keine der 23 Prüfungen im ersten Versuch bestanden hat?\n",
    "\n",
    "Und jetzt die Frage, die uns heute am meistens interessiert:\n",
    "\n",
    "(3) Wie gross ist die Wahrscheinlichkeit, dass _Eugen_ __genau 6 Prüfungen__ im ersten Versuch versemmelt, also NICHT BESTANDEN, hat?\n",
    "\n",
    "Wir nehmen zudem noch an, dass die einzelnen Prüfungen \"bestehenstechnisch\" unabhängig voneinander sind (bei unserer  \"im Mittel\"-Betrachtung ist das sogar nicht vollkommen unplausibel). Um unsere Fragen beantworten zu können, schauen wir uns kurz an, was das rechentechnisch bedeutet:\n",
    "\n",
    "Wenn wir uns eine Prüfung, z.B. INS anschauen, ist die Wahrscheinlichkeit, dort im ersten Versuch durchzufallen, $p_{-}$, also $0.3$. Jetzt nehmen wir eine zweite Prüfung hinzu, sagen wir $GWI$. Jetzt gibt es vier mögliche Resultate für das Absolvieren der beiden \"ersten\" Prüfungen:\n",
    "\n",
    "\n",
    "| INS | GWI | \n",
    "|:---:|:---:|\n",
    "| bestanden | bestanden |\n",
    "| bestanden | versiebt |\n",
    "| versiebt  | bestanden |\n",
    "| versiebt  | versiebt |\n",
    "\n",
    "Jetzt interessiert uns für jeden Fall seine Eintrittswahrscheinlichkeit. Wir wissen Folgendes:\n",
    "\n",
    "$p(INS=bestanden)=0.7, p(INS=versiebt)=0.3, p(GWI=bestanden)=0.7, p(GWI=versiebt)=0.3$\n",
    "\n",
    "Was wir wissen wollen, ist die Wahrscheinlichkeit für das Auftreten der Kombinationen, also z.B.\n",
    "\n",
    "$p(INS=versiebt\\ UND\\ GWI=versiebt)$, die man häufig auch so schreibt $p(INS=versiebt \\wedge GWI=versiebt)$ oder so $p(INS=versiebt,GWI=versiebt)$.\n",
    "\n",
    "Jetzt kann es natürlich subtile Zusammenhänge zwischen INS und GWI geben, z.B. könnten die Prüfungstermine immer sehr nah beieinander liegen und viele könnten GWI ins 2. Semester geschieben, und dann sind beide Erstversuche innnerhalb sher kurzer Zeit und wenn man dann beim ersten Termin schlecht drauf ist, steigert das die Chance, beim zweiten Termin auch noch durchzufallen. Dann würden wir sagen: GWI und INS sind nicht unabhängig voneinander, und müssten für diese Paarung genau auf die Daten schauen, um Wahrscheinlichkeit für das gemeinsame Eintreten von Ereignissen angeben zu können.\n",
    "\n",
    "Wir hatten aber angenommen, die Ereignisse wären unabhängig, dann kann man sie auch (wie beim mehreren Würfen einer gewöhnlichen Münze) jeweils für sich betrachten und die Wahrscheinlichkeit für den gemeinsamen Eintritt von zwei (Teil-)Ereignissen ergibt sich aus dem __PRODUKT__ der einzelnen Wahrscheinlichkeiten, d.h. $p(INS=X,GWI=Y) = p(INS=X)*p(GWI=Y)$, also:\n",
    "\n",
    "| INS | GWI | Wahrscheinlichkeit |\n",
    "|:---:|:---:|:------------------: | \n",
    "| bestanden | bestanden | $0.7*0.7=0.49$ |\n",
    "| bestanden | versiebt | $0.7*0.3=0.21$ |\n",
    "| versiebt  | bestanden | $0.3*0.7=0.21$ |\n",
    "| versiebt  | versiebt | $0.3*0.3=0.09$ |\n",
    "\n",
    "Kleine Preisfrage: wenn wir die Summe über der Wahrscheinlichkeitsspalte bilden, was kommt dann raus?"
   ]
  },
  {
   "cell_type": "code",
   "execution_count": 153,
   "metadata": {},
   "outputs": [
    {
     "name": "stdout",
     "output_type": "stream",
     "text": [
      "Summe: 0.9999999999999999\n"
     ]
    }
   ],
   "source": [
    "summe = p_plus*p_plus + p_plus*p_minus + p_minus*p_plus + p_minus*p_minus\n",
    "print(\"Summe:\",summe) # Ergibt für p_minus=0.3 nicht genau 1...ein schönes Beispiel \n",
    "# für die Ungenauigkeiten beim Rechnen mit IEEE-754-Floats...in Standard-Java geht das \n",
    "# im übrigen auch nicht...s. auch https://de.wikipedia.org/wiki/IEEE_754"
   ]
  },
  {
   "cell_type": "markdown",
   "metadata": {},
   "source": [
    "Genau, es muss $1$ rauskommen, denn wir haben alle möglichen Resultate aufgeführt, also müssen sich die Wahrscheinlichkeiten zu $1$ addieren (denn irgendeines der 4 Resultate __muss__ sich ereignen, und durch die __ADDITION__ beantworten wir die Frage, ob Resultat 1 ODER Resultat 2 ODER Resultat 3 oder RESULTAT 4 eintritt; übrigens, das ODER hier hier exklusiv, weil die einzelnen Resultate sich gegenseitig ausschliessen, wäre das nicht der Fall, müsste man von der Summe noch \"Doppelt-Gemoppeltes\" abziehen, aber (1.) gibt es das hier nicht und (2.) ist das eine andere Baustelle - aber das wissen sie bestimmt alles noch aus der Schule! (sonst kann man seine Kenntnisse [hier](https://www.khanacademy.org/math/statistics-probability/probability-library) oder [hier](https://www.khanacademy.org/math/statistics-probability/counting-permutations-and-combinations) auffrischen lassen): \n",
    "\n",
    "Hier nochmal unsere Fragen:\n",
    "\n",
    "(1) Wie gross ist die Wahrscheinlichkeit, dass _Eugen_ alle 23 Prüfungen im ersten Versuch bestanden hat?\n",
    "\n",
    "(2) Wie gross ist die Wahrscheinlichkeit, dass _Eugen_ keine der 23 Prüfungen im ersten Versuch bestanden hat?\n",
    "\n",
    "(3) Wie gross ist die Wahrscheinlichkeit, dass _Eugen_ __genau 6 Prüfungen__ im ersten Versuch versemmelt, also NICHT BESTANDEN, hat?\n",
    "\n",
    "Lösen sie mal (1) und (2) mit ihren Nachbarn und dann lösen wir (3) gemeinsam."
   ]
  },
  {
   "cell_type": "code",
   "execution_count": 62,
   "metadata": {},
   "outputs": [
    {
     "name": "stdout",
     "output_type": "stream",
     "text": [
      "Wahrscheinlichkeit, alle Prüfungen im ersten Versuch zu bestehen: 0.0002736874734008088\n",
      "Wahrscheinlichkeit, keine Prüfung im ersten Versuch zu bestehen: 9.414317882699991e-13\n"
     ]
    }
   ],
   "source": [
    "# Bestimmen wir die Antworten zu (1) und (2)\n",
    "p_minus = 0.3 # Durchfallenswahrscheinlichkeit\n",
    "p_plus  = 1 - p_minus # Bestehenswahrscheinlichkeit\n",
    "\n",
    "n = 23 # Soviele Prüfungen gibt es im Erstversuch, wenn man bis ans Ende kommt\n",
    "answer_1 = p_plus**23\n",
    "answer_2 = p_minus**23\n",
    "\n",
    "print(\"Wahrscheinlichkeit, alle Prüfungen im ersten Versuch zu bestehen:\",answer_1)\n",
    "print(\"Wahrscheinlichkeit, keine Prüfung im ersten Versuch zu bestehen:\",answer_2)"
   ]
  },
  {
   "cell_type": "markdown",
   "metadata": {},
   "source": [
    "Oh weh, die Wahrscheinlichkeit, alle Prüfungen im ersten Versuch zu bestehen, beträgt nur ungefähr 0.00028, d.h., nur etwa 3 hunderstel Prozent aller Studierenden aus dieser Klasse von Studierenden werden ihren Abschluss ohne Wiederholungsprüfung erhalten. Aua.\n",
    "\n",
    "Aber es gibt auch gute Nachrichten: 9.4 mal 10 hoch -13 ist noch viel, viel kleiner..."
   ]
  },
  {
   "cell_type": "code",
   "execution_count": 63,
   "metadata": {},
   "outputs": [
    {
     "name": "stdout",
     "output_type": "stream",
     "text": [
      "Wahrscheinlichkeit: 0.0000000000009414\n"
     ]
    }
   ],
   "source": [
    "print(\"Wahrscheinlichkeit: %.16f\" % answer_2)"
   ]
  },
  {
   "cell_type": "markdown",
   "metadata": {},
   "source": [
    "also alles wiederholen müssen noch viel weniger Studierende (im Mittel...tatsächlich gibt es natürlich die ganz Erfolgreichen, die eine viel kleinere Durchfallenschance haben, und die weniger Efolgreichen, die eine deulich höhere Durchfallenschance haben...und damit auch ein (potentiell viel) höheres Risiko, alles (mindestens) einmal zu versieben...).\n",
    "\n",
    "Aber wie lösen wir nun die Frage (3)?\n",
    "\n",
    "Die Idee ist wie folgt:\n",
    "\n",
    "Ordnen wir mal die einzelnen Fächer \"irgendwie\" an, z.B. so GMI,GWI,EPR,LDS,EBW,OPR,ADS,MWI,... (23 Module)\n",
    "\n",
    "Jetzt repräsentieren wir die Prüfungshistorie eines Studierenden (der erfolgreich absolviert hat), in dem wir _bestanden_ durch ein $+$ (Plus) repräsentieren, und _versiebt_ durch ein $-$ (Minus) und daraus einen String der Länge 26 bauen, z.B. so (wir lassen hier um der Lesbarkeit willen ein paar Lücken, um die Semester zu trennen):\n",
    "\n",
    "<pre>\n",
    "         ---+-  -+-++  +++++  ++++  ++++ (Historie von Karl-Heinz)\n",
    "</pre>\n",
    "\n",
    "Karl-Heinz hat genau 6 Erstprüfungen nicht bestanden.\n",
    "\n",
    "Die Wahrscheinlichkeit dafür, dass für einen Studierenden GENAU DIESE Sequenz aus $+$ und $-$ entsteht, er also in GMI, GWI, EPR durchfällt, LDS aber besteht, usw.usf. ist -gegeben unsere Annahmen - nun wie gross?"
   ]
  },
  {
   "cell_type": "markdown",
   "metadata": {},
   "source": [
    "$0.3*0.3*0.3*0.7*0.3*0.3*0.7*0.3*0.7*...$ $=$ $0.3^6*(1-0.3)^{23-6}$. Rechnen wir das aus:"
   ]
  },
  {
   "cell_type": "code",
   "execution_count": 64,
   "metadata": {},
   "outputs": [
    {
     "name": "stdout",
     "output_type": "stream",
     "text": [
      "Wahrscheinlichkeit für eine Prüfungshistorie mit 23 Prüfungen und genau 6 Durchfallern: 0.0000016959\n"
     ]
    }
   ],
   "source": [
    "k = 6  # interessierende Durchfallens-Anzahl\n",
    "n = 23 # Gesamtzahl an Prüfungen\n",
    "p_nk = p_minus**k * (1-p_minus)**(n-k)\n",
    "print(\"Wahrscheinlichkeit für eine Prüfungshistorie mit 23 Prüfungen und genau 6 Durchfallern: %.10f\" % p_nk)"
   ]
  },
  {
   "cell_type": "markdown",
   "metadata": {},
   "source": [
    "Nun kennen wir die Wahrscheinlichkeit für das Vorkommen von genau 6 Durchfallern an ganz speziellen Positionen in einer 23er-Historie. Es gibt offensichtlich viele mögliche solcher Historien, die genau 6 Durchfaller enthalten. Wenn wir die (3) lösen wollen, wäre eine Idee, deren Anzahl zu bestimmen und diese Anzahl mit der Wahrscheinlichkeit für ihren Eintritt zu gewichten, also zu multiplizieren (die sieht nämlich - durch die Unabhängigkeit - für jede Historie gleich aus, s. die eben angegebene Formel bzw. deren Wert), d.h. \n",
    "\n",
    "$Anzahl * {p_{-}}^6 * (1-p_{-})^{17}$ beantwortet unsere Frage (3).\n",
    "\n",
    "Wie finden wir nun die Anzahl?\n",
    "\n",
    "Die spezielle Historie von Karl-Heinz könnten wir auch angeben, in dem wir eine Sequenz aus den 6 Positionen der in der Historie vorkommenden Minus-Zeichen angeben würden, und zwar:\n",
    "\n",
    "<pre>\n",
    "     [1,2,3,5,6,8]\n",
    "</pre>\n",
    "\n",
    "Aus dieser Positionssequenz könnten wir sofort die Historie von Karl-Heinz rekonstruieren. Jede Historie können wir so kodieren! Für die erste Position können wir aus $23$ Positionen auswählen, für die 2. Position noch aus $22$, dann aus $21$ (3.), dann aus $20$ (4.), dann aus $19$ (5.), und zuletzt noch aus $18$ (6.). Insgesamt gibt es also\n",
    "\n",
    "$23*22*21*20*19*18$ mögliche Positionssequenzen dieser Art, die Historien kodieren. Wir können das auch abhängig von $n$ (steht für die 23) und $k$ (steht für die 6) ausdrücken:\n",
    "\n",
    "$n * (n-1) * (n-2) * \\dots * (n-k+1)$ $=$ $\\frac{n*\\dots*(n-k+1)*((n-k)*\\dots*1)}{((n-k)*\\dots*1)}$ $=$  $\\frac{n!}{(n-k)!}$\n",
    "\n",
    "Damit man nochmal sieht, was hier Simples passiert, schauen wir uns das mit Zahlen an:\n",
    "\n",
    "$23*22*21*\\dots*18$ $=$ $(23*22*21*\\dots*18) * 1$ $=$ $(23*22*21*\\dots*18) * \\frac{17*16*\\dots*1}{17*16*\\dots*1}$ = $ \\frac{23*22*21*\\dots*18*17*16*\\dots*1}{17*16*\\dots*1}$ $=$ $\\frac{23!}{17!}$\n",
    "\n",
    "Das gibt jetzt die Anzahl aller denkbaren Positionssequenzen für unser Beispiel an - das entspricht aber nicht der Anzahl an verschiedenen Historien, denn...\n",
    "\n",
    "__Jede Permutation der Sequenz [1,2,3,5,6,8], also z.B. [2,3,1,5,8,6] repräsentiert die selbe Historie!__\n",
    "\n",
    "Probieren Sie es aus! Klar, es kommt die gleiche Historie heraus. Es gibt also deutlich mehr Positionssequenzen, als Historien. Mit den Positionen aus einer Positionssequenz können wir  können wir genau $6*5*4*3*2*1 = 6!$ Positionssequenzen, allgemein also $k!$, finden, die die gleiche Historie kodieren (bei dieser Anzahl wurde die ursprüngliche Positionssequenz mitgezählt). Alle diese Positionssequenzen sind in einer Äquivalenzklasse bezüglich der Relation \"kodiert die gleiche Historie\". Wir müssen also einfach die Anzahl der möglichen Positionssequenzen durch $k!$ teilen, damit wir die Anzahl der Äquivalenzklassen finden. Machen wir das:\n",
    "\n",
    "$\\frac{n!}{(n-k)!k!}$\n",
    "\n",
    "Jetzt haben wir auch noch die $k!$ \"Doppelten\" aus unserer Positionssequenzanzahl herausgezogen und haben damit die gesuchte Anzahl von Historien gefunden!\n",
    "\n",
    "Unser allgemein gültiges Ergebnis (für $n >= k > 0$) für die gesuchte Wahrscheinlichkeit ist also:\n",
    "\n",
    "$\\frac{n!}{(n-k)!k!}$ $*$ ${p_{-}}^k * (1-p_{-})^{n-k}$ \n",
    "\n",
    "Damit können wir (3) beantworten:\n",
    "\n",
    "$\\frac{23!}{17!6!}$ $*$ ${p_{-}}^6 * (1-p_{-})^{17}$ \n",
    "\n",
    "Rechnen wir es aus:"
   ]
  },
  {
   "cell_type": "code",
   "execution_count": 154,
   "metadata": {},
   "outputs": [
    {
     "name": "stdout",
     "output_type": "stream",
     "text": [
      "Gesuchte Wahrscheinlichkeit für das Durchfallen in genau 6 Prüfungen: 0.17119363969195117\n",
      "\n",
      "Mit allgemeiner Formel berechnet: 0.17119363969195117\n"
     ]
    }
   ],
   "source": [
    "def fak_iter(n):\n",
    "    result = 1\n",
    "    for i in range(1,n+1):\n",
    "        result *= i\n",
    "    return result\n",
    "\n",
    "answer_3 = (fak_iter(n) / (fak_iter(n-k)*fak_iter(k))) * p_nk\n",
    "print(\"Gesuchte Wahrscheinlichkeit für das Durchfallen in genau 6 Prüfungen:\",answer_3)\n",
    "\n",
    "# als allgemeine Funktion\n",
    "def p_exakt(n,k,p):\n",
    "    return (fak_iter(n) / (fak_iter(n-k)*fak_iter(k))) * p**k * (1-p)**(n-k)\n",
    "\n",
    "print(\"\\nMit allgemeiner Formel berechnet:\",p_exakt(23,6,0.3))\n"
   ]
  },
  {
   "cell_type": "markdown",
   "metadata": {},
   "source": [
    "Schauen wir einmal, wie sich die Wahrscheinlichkeiten auf die 24 denkbare Fälle verteilen, also auf \"Gar nicht durchgefallen\", \"1mal durchgefallen\" usw., bis \"23mal durchgefallen\"."
   ]
  },
  {
   "cell_type": "code",
   "execution_count": 66,
   "metadata": {},
   "outputs": [
    {
     "name": "stdout",
     "output_type": "stream",
     "text": [
      "Wahrscheinlichkeiten für 0 bis 23 Durchfaller im ersten Versuch:\n",
      " [0.0002736874734008088, 0.002697776523522258, 0.01271808932517636, 0.03815426797552907, 0.08175914566184804, 0.13315060864929534, 0.17119363969195117, 0.17818113518958184, 0.15272668730535588, 0.10909049093239706, 0.06545429455943823, 0.03315217516646872, 0.014208075071343739, 0.00515237887202575, 0.0015772588383752297, 0.0004055808441536305, 8.69101808900637e-05, 1.5337090745305356e-05, 2.191012963615051e-06, 2.4710672521974266e-07, 2.1180576447406512e-08, 1.2967699865759088e-09, 5.0523505970489955e-11, 9.414317882699991e-13] \n",
      "Summe der Wahrscheinlichkeiten:  0.9999999999999987 (sollte 1 sein, ist es fast, Floats lassen grüssen ;)\n"
     ]
    },
    {
     "data": {
      "image/png": "[encoded data removed]",
      "text/plain": [
       "<matplotlib.figure.Figure at 0x134ce63da20>"
      ]
     },
     "metadata": {},
     "output_type": "display_data"
    }
   ],
   "source": [
    "#!/usr/bin/env python\n",
    "import numpy as np\n",
    "import matplotlib.mlab as mlab\n",
    "import matplotlib.pyplot as plt\n",
    "\n",
    "def show_chart(p,debug=True):\n",
    "    x = np.arange(0,24) # Die Zahlen von 0 bis 23 in einer (Numpy)-Array\n",
    "    y = [p_exakt(23,i,p) for i in x] # Die zugehörigen Wahrscheinlichkeiten\n",
    "    if debug: print(\"Wahrscheinlichkeiten für 0 bis 23 Durchfaller im ersten Versuch:\\n\",\n",
    "          y,\"\\nSumme der Wahrscheinlichkeiten: \",sum(y), \n",
    "          \"(sollte 1 sein, ist es fast, Floats lassen grüssen ;)\")\n",
    "\n",
    "    plt.bar(x,y) # Ein Bar-Chart ausgeben\n",
    "    # Ausgabe verschönern\n",
    "    plt.xlabel('Durchfallsanzahl')\n",
    "    plt.ylabel('Wahrscheinlichkeit')\n",
    "    plt.title(r'$\\mathrm{Durchfallenswahrscheinlichkeit\\ bei\\ }$'+ str(p))\n",
    "    plt.grid(True)\n",
    "    # Und alles anzeigen\n",
    "    plt.show()\n",
    "\n",
    "show_chart(0.3)"
   ]
  },
  {
   "cell_type": "markdown",
   "metadata": {},
   "source": [
    "Anmerkung: Wenn wir annehmen würden, die Durchfallenswahrscheinlichkeit im ersten Versuch läge bei 0.5 bzw. 0.7, dann würden sich folgende Charts ergeben:"
   ]
  },
  {
   "cell_type": "code",
   "execution_count": 67,
   "metadata": {},
   "outputs": [
    {
     "data": {
      "image/png": "[encoded data removed]",
      "text/plain": [
       "<matplotlib.figure.Figure at 0x134ce880a20>"
      ]
     },
     "metadata": {},
     "output_type": "display_data"
    },
    {
     "data": {
      "image/png": "[encoded data removed]",
      "text/plain": [
       "<matplotlib.figure.Figure at 0x134ce880ac8>"
      ]
     },
     "metadata": {},
     "output_type": "display_data"
    }
   ],
   "source": [
    "show_chart(0.5,debug=False)\n",
    "show_chart(0.7,debug=False)"
   ]
  },
  {
   "cell_type": "markdown",
   "metadata": {},
   "source": [
    "# Binomialkoeffizient\n",
    "\n",
    "Die Abbildungen sind übrigens Beispiele für eine sogenannte __diskrete Binomialverteilung__. \n",
    "\n",
    "Unsere Formel mit den Fakultäten von oben kennen Sie vermutlich unter dem Namen __Binomialkoeffizient__. Erinnern wir uns zunächst:\n",
    "\n",
    "Die Fakultät für eine natürliche Zahl $n$ ist wie folgt definiert:\n",
    "\n",
    "$$n! = 1*2*\\dots*n = \\prod^{n}_{i=1}i$$ für $n > 0$ und $n! = 1$ für $n=0$ (das \"leere\" Produkt), kurz also $0!=1$ .\n",
    "\n",
    "Man kann die Fakultät natürlich auch rekursiv definieren:\n",
    "\n",
    "$n! = n*(n-1)!$ für alle natürlichen Zahlen $n > 0$ und $n!=1$ für $n=0$ (bei uns ist $0$ auch eine ganz gewöhnliche natürliche Zahl).\n",
    "\n",
    "Den Binomialkoeffizienten können wir dann wie folgt definieren: Seien $n$ und $k$ natürliche Zahlen mit $0 \\leq k \\leq n$. Dann ist\n",
    "\n",
    "$$\\binom{n}{k} = \\frac{n!}{(n-k)!k!}$$ der _Binomialkoeffizient_.\n",
    "\n",
    "Alternativ können wir das auch rekursiv definieren (unter den gleichen Voraussetzungen):\n",
    "\n",
    "$\\binom{n}{0} = 1$ für alle $n$\n",
    "\n",
    "$\\binom{n}{k} = \\binom{n-1}{k-1} + \\binom{n-1}{k}$ für $n > k > 0$\n",
    "\n",
    "$\\binom{n}{k} = 1$ für $n = k$\n",
    "\n",
    "Diese rekursive Beziehung können wir leicht als Funktion implementieren:"
   ]
  },
  {
   "cell_type": "code",
   "execution_count": 81,
   "metadata": {},
   "outputs": [
    {
     "name": "stdout",
     "output_type": "stream",
     "text": [
      "100947  ==  100947 ? JA!\n",
      "100947  ist auch korrekt: n über k ist allgemein identisch zu n über n-k\n",
      "1 1\n"
     ]
    }
   ],
   "source": [
    "# Nur \"safe\" für natürliche Zahlen n,k mit 0 <= k <= n\n",
    "def binom_rek(n,k): \n",
    "    if n==k or k==0: return 1\n",
    "    return binom_rek(n-1,k-1)+binom_rek(n-1,k)\n",
    "\n",
    "# Testen für einige Fälle\n",
    "print(binom_rek(23,6),\" == \",int(fak_iter(n) / (fak_iter(n-k)*fak_iter(k))),\"? JA!\")\n",
    "print(binom_rek(23,17),\" ist auch korrekt: n über k ist allgemein identisch zu n über n-k\")\n",
    "print(binom_iter1(3,3),binom_iter1(10,0))"
   ]
  },
  {
   "cell_type": "code",
   "execution_count": 80,
   "metadata": {},
   "outputs": [
    {
     "name": "stdout",
     "output_type": "stream",
     "text": [
      "100947  ==  100947 ? JA!\n",
      "100947  ist auch korrekt: n über k ist allgemein identisch zu n über n-k\n",
      "1 1\n"
     ]
    }
   ],
   "source": [
    "def binom_iter1(n,k):\n",
    "    return fak_iter(n) // (fak_iter(n-k)*fak_iter(k)) # // ganzahlige Division, hier immer korrekt\n",
    "\n",
    "print(binom_iter1(23,6),\" == \",int(fak_iter(n) / (fak_iter(n-k)*fak_iter(k))),\"? JA!\")\n",
    "print(binom_iter1(23,17),\" ist auch korrekt: n über k ist allgemein identisch zu n über n-k\")\n",
    "print(binom_iter1(3,3),binom_iter1(10,0))"
   ]
  },
  {
   "cell_type": "markdown",
   "metadata": {},
   "source": [
    "Die rekursive Lösung ist allerdings nicht besonders cool (auch, wenn sie ästhetisch aussieht). Auch die iterative Lösung kann man noch schöner machen. Aber schauen wir uns zunächst die rekursive Lösung genauer an, indem wir einmal zählen, wieviele rekursive Aufrufe sie von sich selbst produziert:"
   ]
  },
  {
   "cell_type": "code",
   "execution_count": 155,
   "metadata": {},
   "outputs": [
    {
     "name": "stdout",
     "output_type": "stream",
     "text": [
      "100947 | Rekursive Aufrufe:  201893\n",
      "...bitte warten...\n",
      "155117520 | Rekursive Aufrufe:  310235039\n"
     ]
    }
   ],
   "source": [
    "def binom_rek_count(n,k,cnt): \n",
    "    cnt[0] += 1\n",
    "    if n==k or k==0: return 1\n",
    "    return binom_rek_count(n-1,k-1,cnt)+binom_rek_count(n-1,k,cnt)\n",
    "\n",
    "cnt = [0]\n",
    "print(binom_rek_count(23,6,cnt),\"| Rekursive Aufrufe: \",cnt[0]) # 201893\n",
    "\n",
    "print(\"...bitte warten...\")\n",
    "\n",
    "cnt = [0]\n",
    "print(binom_rek_count(30,15,cnt),\"| Rekursive Aufrufe: \",cnt[0]) #  ... dauert lang...\n",
    "\n",
    "# 35,15 dauert z.B. schon sehr lange..."
   ]
  },
  {
   "cell_type": "markdown",
   "metadata": {},
   "source": [
    "Tatsächlich sind sehr, sehr viele dieser rekursiven Aufrufe \"doppelt\". In der Verzweigung der Rekursion achtet man nicht darauf, ob man etwas berechnet, dass in einem anderen Zweig schon berechnet wurde. Darauf können wir aber achten - das nennt man _dynamisches Programmieren_, ein etwas schräger Name, der wohl zu Marketing-Zwecken so gewählt wurde, um die Technik in den Jahren ihrer Erfindung populär zu machen (vgl. John Guttags Buch).\n",
    "\n",
    "Also, wie ist die Idee? Bei manchen Problem kann man die Lösung des Problems durch das Betrachten von \"kleineren\" Teilproblemen finden, so, wie es in der Rekursion zum Binomialkoeffizienten ausgenutzt wird. Nun kann es passieren, dass ein \"noch kleineres\" Teilproblem zur Lösung mehrerer \"kleiner\" Teilprobleme Verwendung finden kann. Deshalb merken wir uns, sobald wir ein Teilproblem gelöst haben, die Lösung und die Parametrisierung, die zu dieser Lösung geführt haben. Dann können wir das Auftreten des gleichewn Teilproblems an anderer Stelle einfach erkennen und die Lösung nachschlagen!\n",
    "\n",
    "Machen wir das:"
   ]
  },
  {
   "cell_type": "code",
   "execution_count": 107,
   "metadata": {},
   "outputs": [
    {
     "name": "stdout",
     "output_type": "stream",
     "text": [
      "100947 | Rekursive Aufrufe:  205  Computations:  125\n",
      "155117520 | Rekursive Aufrufe:  271  Computations:  144\n",
      "2250829575120 | Rekursive Aufrufe:  577  Computations:  306\n"
     ]
    }
   ],
   "source": [
    "binoms = {} # This is our storage\n",
    "# Es gibt übrigens keinen Grund, binoms nach\n",
    "# einen Aufruf von binom_rek_memo \"von aussen\"\n",
    "# wieder zurückzusetzen, die Resultate bleiben ja richtig\n",
    "# und können (oft) wiederverwendet werden\n",
    "# Allerdings geht das Ganze natürlich auf Dauer auf Kosten des\n",
    "# Speichers, wenn man dort beschränkt ist, muss man bestimmte\n",
    "# ältere oder \"unwahrscheinliche\" Werte wieder entfernen,\n",
    "# ein neues, interessantes Problemfeld (und computation\n",
    "# ist IMMER ressourcenbeschränkt, Zeit und/oder Speicher sind\n",
    "# immer knapp...)\n",
    "\n",
    "def binom_rek_memo(n,k,cnt): \n",
    "    global binoms # allow access to storage\n",
    "    cnt[0] += 1 # cnt[0] counts the calls\n",
    "    if (n,k) in binoms: return binoms[(n,k)] # use our memory if possible\n",
    "    cnt[1] += 1 # cnt[1] counts the new computations, not the calls\n",
    "    if n==k or k==0: return 1 # no need to store this, but could be done to reduce computations\n",
    "    result = binom_rek_memo(n-1,k-1,cnt)+binom_rek_memo(n-1,k,cnt)\n",
    "    binoms[(n,k)] = result # store\n",
    "    return result\n",
    "\n",
    "cnt = [0,0]\n",
    "print(binom_rek_memo(23,6,cnt),\"| Rekursive Aufrufe: \",cnt[0],\" Computations: \",cnt[1]) # 201893\n",
    "\n",
    "cnt = [0,0]\n",
    "print(binom_rek_memo(30,15,cnt),\"| Rekursive Aufrufe: \",cnt[0],\" Computations: \",cnt[1]) \n",
    "\n",
    "# nicht mehr möglich mit der normalen Rekursion!\n",
    "cnt = [0,0]\n",
    "print(binom_rek_memo(50,15,cnt),\"| Rekursive Aufrufe: \",cnt[0],\" Computations: \",cnt[1]) \n"
   ]
  },
  {
   "cell_type": "code",
   "execution_count": 105,
   "metadata": {},
   "outputs": [
    {
     "name": "stdout",
     "output_type": "stream",
     "text": [
      "{(2, 1): 2, (3, 1): 3, (4, 1): 4, (5, 1): 5, (6, 1): 6, (7, 1): 7, (8, 1): 8, (9, 1): 9, (10, 1): 10, (11, 1): 11, (12, 1): 12, (13, 1): 13, (14, 1): 14, (15, 1): 15, (16, 1): 16, (17, 1): 17, (18, 1): 18, (3, 2): 3, (4, 2): 6, (5, 2): 10, (6, 2): 15, (7, 2): 21, (8, 2): 28, (9, 2): 36, (10, 2): 45, (11, 2): 55, (12, 2): 66, (13, 2): 78, (14, 2): 91, (15, 2): 105, (16, 2): 120, (17, 2): 136, (18, 2): 153, (19, 2): 171, (4, 3): 4, (5, 3): 10, (6, 3): 20, (7, 3): 35, (8, 3): 56, (9, 3): 84, (10, 3): 120, (11, 3): 165, (12, 3): 220, (13, 3): 286, (14, 3): 364, (15, 3): 455, (16, 3): 560, (17, 3): 680, (18, 3): 816, (19, 3): 969, (20, 3): 1140, (5, 4): 5, (6, 4): 15, (7, 4): 35, (8, 4): 70, (9, 4): 126, (10, 4): 210, (11, 4): 330, (12, 4): 495, (13, 4): 715, (14, 4): 1001, (15, 4): 1365, (16, 4): 1820, (17, 4): 2380, (18, 4): 3060, (19, 4): 3876, (20, 4): 4845, (21, 4): 5985, (6, 5): 6, (7, 5): 21, (8, 5): 56, (9, 5): 126, (10, 5): 252, (11, 5): 462, (12, 5): 792, (13, 5): 1287, (14, 5): 2002, (15, 5): 3003, (16, 5): 4368, (17, 5): 6188, (18, 5): 8568, (19, 5): 11628, (20, 5): 15504, (21, 5): 20349, (22, 5): 26334, (7, 6): 7, (8, 6): 28, (9, 6): 84, (10, 6): 210, (11, 6): 462, (12, 6): 924, (13, 6): 1716, (14, 6): 3003, (15, 6): 5005, (16, 6): 8008, (17, 6): 12376, (18, 6): 18564, (19, 6): 27132, (20, 6): 38760, (21, 6): 54264, (22, 6): 74613, (23, 6): 100947, (8, 7): 8, (9, 7): 36, (10, 7): 120, (11, 7): 330, (12, 7): 792, (13, 7): 1716, (14, 7): 3432, (15, 7): 6435, (16, 7): 11440, (17, 7): 19448, (18, 7): 31824, (19, 7): 50388, (20, 7): 77520, (21, 7): 116280, (22, 7): 170544, (9, 8): 9, (10, 8): 45, (11, 8): 165, (12, 8): 495, (13, 8): 1287, (14, 8): 3003, (15, 8): 6435, (16, 8): 12870, (17, 8): 24310, (18, 8): 43758, (19, 8): 75582, (20, 8): 125970, (21, 8): 203490, (22, 8): 319770, (23, 8): 490314, (10, 9): 10, (11, 9): 55, (12, 9): 220, (13, 9): 715, (14, 9): 2002, (15, 9): 5005, (16, 9): 11440, (17, 9): 24310, (18, 9): 48620, (19, 9): 92378, (20, 9): 167960, (21, 9): 293930, (22, 9): 497420, (23, 9): 817190, (24, 9): 1307504, (11, 10): 11, (12, 10): 66, (13, 10): 286, (14, 10): 1001, (15, 10): 3003, (16, 10): 8008, (17, 10): 19448, (18, 10): 43758, (19, 10): 92378, (20, 10): 184756, (21, 10): 352716, (22, 10): 646646, (23, 10): 1144066, (24, 10): 1961256, (25, 10): 3268760, (12, 11): 12, (13, 11): 78, (14, 11): 364, (15, 11): 1365, (16, 11): 4368, (17, 11): 12376, (18, 11): 31824, (19, 11): 75582, (20, 11): 167960, (21, 11): 352716, (22, 11): 705432, (23, 11): 1352078, (24, 11): 2496144, (25, 11): 4457400, (26, 11): 7726160, (13, 12): 13, (14, 12): 91, (15, 12): 455, (16, 12): 1820, (17, 12): 6188, (18, 12): 18564, (19, 12): 50388, (20, 12): 125970, (21, 12): 293930, (22, 12): 646646, (23, 12): 1352078, (24, 12): 2704156, (25, 12): 5200300, (26, 12): 9657700, (27, 12): 17383860, (14, 13): 14, (15, 13): 105, (16, 13): 560, (17, 13): 2380, (18, 13): 8568, (19, 13): 27132, (20, 13): 77520, (21, 13): 203490, (22, 13): 497420, (23, 13): 1144066, (24, 13): 2496144, (25, 13): 5200300, (26, 13): 10400600, (27, 13): 20058300, (28, 13): 37442160, (15, 14): 15, (16, 14): 120, (17, 14): 680, (18, 14): 3060, (19, 14): 11628, (20, 14): 38760, (21, 14): 116280, (22, 14): 319770, (23, 14): 817190, (24, 14): 1961256, (25, 14): 4457400, (26, 14): 9657700, (27, 14): 20058300, (28, 14): 40116600, (29, 14): 77558760, (16, 15): 16, (17, 15): 136, (18, 15): 816, (19, 15): 3876, (20, 15): 15504, (21, 15): 54264, (22, 15): 170544, (23, 15): 490314, (24, 15): 1307504, (25, 15): 3268760, (26, 15): 7726160, (27, 15): 17383860, (28, 15): 37442160, (29, 15): 77558760, (30, 15): 155117520, (19, 1): 19, (20, 1): 20, (21, 1): 21, (22, 1): 22, (23, 1): 23, (24, 1): 24, (25, 1): 25, (26, 1): 26, (27, 1): 27, (28, 1): 28, (29, 1): 29, (30, 1): 30, (31, 1): 31, (32, 1): 32, (33, 1): 33, (34, 1): 34, (35, 1): 35, (36, 1): 36, (20, 2): 190, (21, 2): 210, (22, 2): 231, (23, 2): 253, (24, 2): 276, (25, 2): 300, (26, 2): 325, (27, 2): 351, (28, 2): 378, (29, 2): 406, (30, 2): 435, (31, 2): 465, (32, 2): 496, (33, 2): 528, (34, 2): 561, (35, 2): 595, (36, 2): 630, (37, 2): 666, (21, 3): 1330, (22, 3): 1540, (23, 3): 1771, (24, 3): 2024, (25, 3): 2300, (26, 3): 2600, (27, 3): 2925, (28, 3): 3276, (29, 3): 3654, (30, 3): 4060, (31, 3): 4495, (32, 3): 4960, (33, 3): 5456, (34, 3): 5984, (35, 3): 6545, (36, 3): 7140, (37, 3): 7770, (38, 3): 8436, (22, 4): 7315, (23, 4): 8855, (24, 4): 10626, (25, 4): 12650, (26, 4): 14950, (27, 4): 17550, (28, 4): 20475, (29, 4): 23751, (30, 4): 27405, (31, 4): 31465, (32, 4): 35960, (33, 4): 40920, (34, 4): 46376, (35, 4): 52360, (36, 4): 58905, (37, 4): 66045, (38, 4): 73815, (39, 4): 82251, (23, 5): 33649, (24, 5): 42504, (25, 5): 53130, (26, 5): 65780, (27, 5): 80730, (28, 5): 98280, (29, 5): 118755, (30, 5): 142506, (31, 5): 169911, (32, 5): 201376, (33, 5): 237336, (34, 5): 278256, (35, 5): 324632, (36, 5): 376992, (37, 5): 435897, (38, 5): 501942, (39, 5): 575757, (40, 5): 658008, (24, 6): 134596, (25, 6): 177100, (26, 6): 230230, (27, 6): 296010, (28, 6): 376740, (29, 6): 475020, (30, 6): 593775, (31, 6): 736281, (32, 6): 906192, (33, 6): 1107568, (34, 6): 1344904, (35, 6): 1623160, (36, 6): 1947792, (37, 6): 2324784, (38, 6): 2760681, (39, 6): 3262623, (40, 6): 3838380, (41, 6): 4496388, (23, 7): 245157, (24, 7): 346104, (25, 7): 480700, (26, 7): 657800, (27, 7): 888030, (28, 7): 1184040, (29, 7): 1560780, (30, 7): 2035800, (31, 7): 2629575, (32, 7): 3365856, (33, 7): 4272048, (34, 7): 5379616, (35, 7): 6724520, (36, 7): 8347680, (37, 7): 10295472, (38, 7): 12620256, (39, 7): 15380937, (40, 7): 18643560, (41, 7): 22481940, (42, 7): 26978328, (24, 8): 735471, (25, 8): 1081575, (26, 8): 1562275, (27, 8): 2220075, (28, 8): 3108105, (29, 8): 4292145, (30, 8): 5852925, (31, 8): 7888725, (32, 8): 10518300, (33, 8): 13884156, (34, 8): 18156204, (35, 8): 23535820, (36, 8): 30260340, (37, 8): 38608020, (38, 8): 48903492, (39, 8): 61523748, (40, 8): 76904685, (41, 8): 95548245, (42, 8): 118030185, (43, 8): 145008513, (25, 9): 2042975, (26, 9): 3124550, (27, 9): 4686825, (28, 9): 6906900, (29, 9): 10015005, (30, 9): 14307150, (31, 9): 20160075, (32, 9): 28048800, (33, 9): 38567100, (34, 9): 52451256, (35, 9): 70607460, (36, 9): 94143280, (37, 9): 124403620, (38, 9): 163011640, (39, 9): 211915132, (40, 9): 273438880, (41, 9): 350343565, (42, 9): 445891810, (43, 9): 563921995, (44, 9): 708930508, (26, 10): 5311735, (27, 10): 8436285, (28, 10): 13123110, (29, 10): 20030010, (30, 10): 30045015, (31, 10): 44352165, (32, 10): 64512240, (33, 10): 92561040, (34, 10): 131128140, (35, 10): 183579396, (36, 10): 254186856, (37, 10): 348330136, (38, 10): 472733756, (39, 10): 635745396, (40, 10): 847660528, (41, 10): 1121099408, (42, 10): 1471442973, (43, 10): 1917334783, (44, 10): 2481256778, (45, 10): 3190187286, (27, 11): 13037895, (28, 11): 21474180, (29, 11): 34597290, (30, 11): 54627300, (31, 11): 84672315, (32, 11): 129024480, (33, 11): 193536720, (34, 11): 286097760, (35, 11): 417225900, (36, 11): 600805296, (37, 11): 854992152, (38, 11): 1203322288, (39, 11): 1676056044, (40, 11): 2311801440, (41, 11): 3159461968, (42, 11): 4280561376, (43, 11): 5752004349, (44, 11): 7669339132, (45, 11): 10150595910, (46, 11): 13340783196, (28, 12): 30421755, (29, 12): 51895935, (30, 12): 86493225, (31, 12): 141120525, (32, 12): 225792840, (33, 12): 354817320, (34, 12): 548354040, (35, 12): 834451800, (36, 12): 1251677700, (37, 12): 1852482996, (38, 12): 2707475148, (39, 12): 3910797436, (40, 12): 5586853480, (41, 12): 7898654920, (42, 12): 11058116888, (43, 12): 15338678264, (44, 12): 21090682613, (45, 12): 28760021745, (46, 12): 38910617655, (47, 12): 52251400851, (29, 13): 67863915, (30, 13): 119759850, (31, 13): 206253075, (32, 13): 347373600, (33, 13): 573166440, (34, 13): 927983760, (35, 13): 1476337800, (36, 13): 2310789600, (37, 13): 3562467300, (38, 13): 5414950296, (39, 13): 8122425444, (40, 13): 12033222880, (41, 13): 17620076360, (42, 13): 25518731280, (43, 13): 36576848168, (44, 13): 51915526432, (45, 13): 73006209045, (46, 13): 101766230790, (47, 13): 140676848445, (48, 13): 192928249296, (30, 14): 145422675, (31, 14): 265182525, (32, 14): 471435600, (33, 14): 818809200, (34, 14): 1391975640, (35, 14): 2319959400, (36, 14): 3796297200, (37, 14): 6107086800, (38, 14): 9669554100, (39, 14): 15084504396, (40, 14): 23206929840, (41, 14): 35240152720, (42, 14): 52860229080, (43, 14): 78378960360, (44, 14): 114955808528, (45, 14): 166871334960, (46, 14): 239877544005, (47, 14): 341643774795, (48, 14): 482320623240, (49, 14): 675248872536, (31, 15): 300540195, (32, 15): 565722720, (33, 15): 1037158320, (34, 15): 1855967520, (35, 15): 3247943160, (36, 15): 5567902560, (37, 15): 9364199760, (38, 15): 15471286560, (39, 15): 25140840660, (40, 15): 40225345056, (41, 15): 63432274896, (42, 15): 98672427616, (43, 15): 151532656696, (44, 15): 229911617056, (45, 15): 344867425584, (46, 15): 511738760544, (47, 15): 751616304549, (48, 15): 1093260079344, (49, 15): 1575580702584, (50, 15): 2250829575120}\n"
     ]
    }
   ],
   "source": [
    "print(binoms)"
   ]
  },
  {
   "cell_type": "markdown",
   "metadata": {},
   "source": [
    "Diese Technik nennt man im Python-Umfeld \"memoization\". Man kann die auch um die Funktion, die man \"memoisieren\" will, drumpacken, so, dass die Funktion gar nicht merkt, dass sie Werte aus einem Speicher liefert. Das macht man mit einem sogenannten Decorator, aber das führt hier zu weit (s. z.B. https://medium.com/@nkhaja/memoization-and-decorators-with-python-32f607439f84, enthält die Fakultät als Beispiel).\n",
    "\n",
    "Das geht doch schon ganz gut! Rekursion findet dann \"kaum\" noch statt und wird zum Grossteil durch Nachschlagen ersetzt (nur das erstmalige Sichten einer n,k-Kombination führt noch zu einer Computation. Trotzdem würde man das normalerweise so nicht implementieren, sondern über eine Iteration. Man könnte z.B. einfach die Iterationen aus der iterativen Fakultätslösung verwenden (haben wir ja oben zur Kontrolle auch schon gemacht). Die kann man auch noch ein wenig umstellen:\n",
    "\n",
    "$$\\binom{n}{k} = \\prod_{i=1}{k} \\frac{n-k+i}{i}$$ \n",
    "\n",
    "für $0 < k \\leq n$ und noch die folgende Regel (um die Iteration kurz zu halten) verwenden, wenn es sinnvoll ist (man also $k > n/2$ ist:\n",
    "\n",
    "$$\\binom{n}{k} = \\binom{n}{n-k}$$ \n",
    "\n",
    "Implementieren wir das der Vollständigkeit halber (das ist, solange wir nicht schon viel im Speicher haben!, natürlich schneller als die memoisierte rekursive Version)."
   ]
  },
  {
   "cell_type": "code",
   "execution_count": 141,
   "metadata": {},
   "outputs": [
    {
     "name": "stdout",
     "output_type": "stream",
     "text": [
      "Recursive memoized call:       2250829575120 | Rekursive Aufrufe:  1  Computations:  0\n",
      "\n",
      "Iteration with simple produkt: 2250829575120\n"
     ]
    }
   ],
   "source": [
    "def binom_iter2(n,k):\n",
    "    if n==k or k==0: return 1 # makes it clearer and simpler, \n",
    "                              # yes, k==0 could be treated in the loop\n",
    "    if k > n/2: k = n-k\n",
    "    result = 1\n",
    "    for i in range(1,k+1): # 1,...,k\n",
    "        result *= (n-k+i)/i # here, don't use //\n",
    "    # Note: this does not work for larger n and k, \n",
    "    # as the floats become too short quick...if we\n",
    "    # switch to integers in the naive way (by using //)\n",
    "    # the results become wrong!\n",
    "    return int(result)\n",
    "\n",
    "cnt = [0,0]\n",
    "print(\"Recursive memoized call:      \", binom_rek_memo(50,15,cnt),\n",
    "      \"| Rekursive Aufrufe: \",cnt[0],\" Computations: \",cnt[1]) \n",
    "\n",
    "print(\"\\nIteration with simple produkt:\",binom_iter2(50,15)) # same result!"
   ]
  },
  {
   "cell_type": "markdown",
   "metadata": {},
   "source": [
    "Vergleichen wir noch grob die Laufzeiten:"
   ]
  },
  {
   "cell_type": "code",
   "execution_count": 152,
   "metadata": {},
   "outputs": [
    {
     "name": "stdout",
     "output_type": "stream",
     "text": [
      "binom_rek_timed function took 20.875 ms\n",
      "binom_rek_timed function took 573.237 ms\n",
      "binom_rek_timed function took 1046.364 ms\n",
      "binom_rek_memo_timed function took 0.000 ms\n",
      "binom_rek_memo_timed function took 15.626 ms\n",
      "binom_rek_memo_timed function took 15.625 ms\n",
      "binom_rek_memo_timed function took 231.818 ms\n",
      "binom_rek_memo_timed function took 707.527 ms\n",
      "binom_iter1_timed function took 0.000 ms\n",
      "binom_iter2_timed function took 0.000 ms\n",
      "binom_iter1_timed function took 0.000 ms\n"
     ]
    },
    {
     "data": {
      "text/plain": [
       "853054089028592923413828600110864150667059744219919297687725981665582484790210286768988921812521520418913202223957440571887382448556391282709308073502736460200930847455672587094620634487602549468409831853832560742050823793462697298691119310321316411979474584499886949726502593933118611859629084374294848755335815085459809114365203084437350790556276415204054400925007363646235282775877184044002017594985956672090661298928734366380552993440"
      ]
     },
     "execution_count": 152,
     "metadata": {},
     "output_type": "execute_result"
    }
   ],
   "source": [
    "from time import time\n",
    "\n",
    "# Some magic to time the calls to functions. timing is a decorator, usage see below:\n",
    "def timing(f):\n",
    "    def wrap(*args):\n",
    "        time1 = time()\n",
    "        ret = f(*args)\n",
    "        time2 = time()\n",
    "        print('%s function took %0.3f ms' % (f.__name__, (time2-time1)*1000.0))\n",
    "        return ret\n",
    "    return wrap\n",
    "\n",
    "@timing\n",
    "def binom_rek_timed(n,k):\n",
    "    return binom_rek(n,k)\n",
    "\n",
    "binoms = {}\n",
    "\n",
    "@timing\n",
    "def binom_rek_memo_timed(n,k):\n",
    "    global binoms\n",
    "    binoms = {} # Wenn sie das auskommentieren, geht es schneller\n",
    "    # weil man von den bereits bestimmten \"kleineren\" Koeffizienten\n",
    "    # profitiert, drückt das größte Beispiel für memo etwa um\n",
    "    # ein Drittel\n",
    "    cnt = [0,0] \n",
    "    return binom_rek_memo(n,k,cnt)\n",
    "\n",
    "@timing\n",
    "def binom_iter1_timed(n,k):\n",
    "    return binom_iter1(n,k)\n",
    "    \n",
    "@timing\n",
    "def binom_iter2_timed(n,k):\n",
    "    return binom_iter2(n,k)\n",
    "\n",
    "binom_rek_timed(20,12)\n",
    "binom_rek_timed(24,12)\n",
    "binom_rek_timed(25,12)\n",
    "\n",
    "binom_rek_memo_timed(25,12)\n",
    "binom_rek_memo_timed(200,70)\n",
    "binom_rek_memo_timed(300,80)\n",
    "binom_rek_memo_timed(900,450)\n",
    "binom_rek_memo_timed(1800,450)\n",
    "\n",
    "binom_iter1_timed(900,450)\n",
    "binom_iter2_timed(900,450)\n",
    "binom_iter1_timed(1800,450)\n",
    "# binom_iter2_timed(1800,450) # Does not work anymore! Approaches infinity internally\n",
    "# due to the necessity to use floats (naive usage of integer div // does not work, try it out)\n",
    "\n"
   ]
  },
  {
   "cell_type": "markdown",
   "metadata": {},
   "source": [
    "## Fazit\n",
    "\n",
    "Erstmal __Wow__ zum letzten Ergebnis. Die Anzahl an Möglichkeiten, 450 Positionen in 1800 Elementen \"ohne Doppelte\" auszuwählen, ist ganz schön gross. Das dauert mit einem \"frischen\" _binom_\\__rek_\\__memo_ übrigens schon etwas länger.\n",
    "\n",
    "Die Technik der __Memoization__ ist cool, keine Frage. Aber wenn man ganz ehrlich ist, sind weder Fakultät noch Binomialkoeffizient besonders grandiose Beispiele für den Einsatz des __dynamischen Programmierens__, denn es sind in beiden Fällen __effiziente iterative Lösungen__ bekannt. Wie man allerdings auch sehen kann: das \"Merken\" kann so oder so nett sein, auch im iterativen Fall könnten wir uns Ergebnisse merken und dann direkt nachschlagen, aber eben nur, falls GENAU der gleiche Binomialkoeffizient nochmal bestimmt werden soll, nur die Rekursion verwendet und bestimmt \"fleissig\" Zwischenresultate und man hat dann schnell eine fette Liste zum Nachschlagen...aber die ist natürlich im Vergleich zum iterativen Verfahren teuer, wenn man nur sehr wenig Gebrauch von ihr macht, also nur wenige Koeffizienten bestimmen möchte (und den \"internen\" Gebrauch für Teilprobleme kann man sich ja durch das iterative Verfahren sowieso sparen, die ganzen Ergebnisse, nach denen der User nie fragt, sind also \"umsonst\" bestimmt und abgespeichert worden).\n",
    "\n",
    "Trotzdem ist die IDEE sehr einleuchtend! Und deshalb werden wir sie im zweiten Teil auch nochmals verwenden und zwar zur Verbesserung der Lösungsfindung im 0/1-Knapsack-Problem!"
   ]
  },
  {
   "cell_type": "code",
   "execution_count": 146,
   "metadata": {},
   "outputs": [
    {
     "name": "stdout",
     "output_type": "stream",
     "text": [
      "binom_rek_memo_timed function took 23.027 ms\n",
      "binom_rek_memo_timed function took 174.303 ms\n",
      "binom_rek_memo_timed function took 741.942 ms\n"
     ]
    },
    {
     "data": {
      "text/plain": [
       "853054089028592923413828600110864150667059744219919297687725981665582484790210286768988921812521520418913202223957440571887382448556391282709308073502736460200930847455672587094620634487602549468409831853832560742050823793462697298691119310321316411979474584499886949726502593933118611859629084374294848755335815085459809114365203084437350790556276415204054400925007363646235282775877184044002017594985956672090661298928734366380552993440"
      ]
     },
     "execution_count": 146,
     "metadata": {},
     "output_type": "execute_result"
    }
   ],
   "source": [
    "binom_rek_memo_timed(300,80)\n",
    "binom_rek_memo_timed(900,450)\n"
   ]
  },
  {
   "cell_type": "code",
   "execution_count": null,
   "metadata": {
    "collapsed": true
   },
   "outputs": [],
   "source": []
  }
 ],
 "metadata": {
  "kernelspec": {
   "display_name": "Python 3",
   "language": "python",
   "name": "python3"
  },
  "language_info": {
   "codemirror_mode": {
    "name": "ipython",
    "version": 3
   },
   "file_extension": ".py",
   "mimetype": "text/x-python",
   "name": "python",
   "nbconvert_exporter": "python",
   "pygments_lexer": "ipython3",
   "version": "3.6.2"
  }
 },
 "nbformat": 4,
 "nbformat_minor": 2
}
